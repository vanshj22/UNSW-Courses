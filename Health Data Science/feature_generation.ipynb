{
 "cells": [
  {
   "cell_type": "code",
   "execution_count": 4,
   "metadata": {},
   "outputs": [
    {
     "name": "stdout",
     "output_type": "stream",
     "text": [
      "CSV file successfully split into 3 parts!\n"
     ]
    }
   ],
   "source": [
    "import pandas as pd\n",
    "\n",
    "# Step 1: Read the CSV file\n",
    "file_path = 'filtered_urls.csv'\n",
    "data = pd.read_csv(file_path)\n",
    "\n",
    "# Step 2: Determine the split points\n",
    "n = len(data)\n",
    "split1 = n // 3\n",
    "split2 = 2 * n // 3\n",
    "\n",
    "# Step 3: Split the DataFrame into three parts\n",
    "part1 = data.iloc[:split1]\n",
    "part2 = data.iloc[split1:split2]\n",
    "part3 = data.iloc[split2:]\n",
    "\n",
    "# Step 4: Save each part to a separate CSV file\n",
    "part1.to_csv('part1.csv', index=False)\n",
    "part2.to_csv('part2.csv', index=False)\n",
    "part3.to_csv('part3.csv', index=False)\n",
    "\n",
    "print(\"CSV file successfully split into 3 parts!\")\n"
   ]
  },
  {
   "cell_type": "code",
   "execution_count": 2,
   "metadata": {},
   "outputs": [
    {
     "name": "stdout",
     "output_type": "stream",
     "text": [
      "CSV file successfully split into 3 parts!\n"
     ]
    }
   ],
   "source": [
    "import pandas as pd\n",
    "\n",
    "# Step 1: Read the CSV file\n",
    "file_path = 'filter_1.csv'\n",
    "data = pd.read_csv(file_path)\n",
    "\n",
    "# Step 2: Determine the split points\n",
    "n = len(data)\n",
    "split1 = n // 2\n",
    "\n",
    "# Step 3: Split the DataFrame into three parts\n",
    "part1 = data.iloc[:split1]\n",
    "part2 = data.iloc[split1:]\n",
    "\n",
    "# Step 4: Save each part to a separate CSV file\n",
    "part1.to_csv('urlpart1.csv', index=False)\n",
    "part2.to_csv('urlpart2.csv', index=False)\n",
    "\n",
    "print(\"CSV file successfully split into 3 parts!\")"
   ]
  },
  {
   "cell_type": "code",
   "execution_count": 3,
   "metadata": {},
   "outputs": [
    {
     "name": "stdout",
     "output_type": "stream",
     "text": [
      "CSV files have been successfully joined and saved as 'merged_file.csv'.\n"
     ]
    }
   ],
   "source": [
    "import pandas as pd\n",
    "\n",
    "# Load the two CSV files into DataFrames\n",
    "df1 = pd.read_csv('filtered_urls_1_2.csv')\n",
    "df2 = pd.read_csv('filtered_urls_1_1.csv')\n",
    "\n",
    "\n",
    "union_df = pd.concat([df1, df2]).drop_duplicates()\n",
    "# Save the merged DataFrame to a new CSV\n",
    "\n",
    "union_df.to_csv('filtered_urls.csv', index=False)\n",
    "\n",
    "print(\"CSV files have been successfully joined and saved as 'merged_file.csv'.\")\n"
   ]
  },
  {
   "cell_type": "code",
   "execution_count": 5,
   "metadata": {},
   "outputs": [
    {
     "name": "stdout",
     "output_type": "stream",
     "text": [
      "CSV files have been successfully joined and saved as 'merged_file.csv'.\n"
     ]
    }
   ],
   "source": [
    "import pandas as pd\n",
    "\n",
    "# Load the two CSV files into DataFrames\n",
    "df1 = pd.read_csv('argos_translate_1.csv')\n",
    "df2 = pd.read_csv('argos_translate_2.csv')\n",
    "df3 = pd.read_csv('argos_translate_3.csv')\n",
    "\n",
    "\n",
    "union_df = pd.concat([df1, df2, df3]).drop_duplicates()\n",
    "# Save the merged DataFrame to a new CSV\n",
    "\n",
    "union_df.to_csv('argos_translate.csv', index=False)\n",
    "\n",
    "print(\"CSV files have been successfully joined and saved as 'merged_file.csv'.\")\n"
   ]
  },
  {
   "cell_type": "code",
   "execution_count": 6,
   "metadata": {},
   "outputs": [
    {
     "name": "stdout",
     "output_type": "stream",
     "text": [
      "CSV file successfully split into 3 parts!\n"
     ]
    }
   ],
   "source": [
    "import pandas as pd\n",
    "\n",
    "# Step 1: Read the CSV file\n",
    "file_path = 'cleaned_argos_translate.csv'\n",
    "data = pd.read_csv(file_path)\n",
    "\n",
    "# Step 2: Determine the split points\n",
    "n = len(data)\n",
    "split1 = n // 3\n",
    "split2 = 2 * n // 3\n",
    "\n",
    "# Step 3: Split the DataFrame into three parts\n",
    "part1 = data.iloc[:split1]\n",
    "part2 = data.iloc[split1:split2]\n",
    "part3 = data.iloc[split2:]\n",
    "\n",
    "# Step 4: Save each part to a separate CSV file\n",
    "part1.to_csv('part1.csv', index=False)\n",
    "part2.to_csv('part2.csv', index=False)\n",
    "part3.to_csv('part3.csv', index=False)\n",
    "\n",
    "print(\"CSV file successfully split into 3 parts!\")\n"
   ]
  }
 ],
 "metadata": {
  "kernelspec": {
   "display_name": "workshop",
   "language": "python",
   "name": "python3"
  },
  "language_info": {
   "codemirror_mode": {
    "name": "ipython",
    "version": 3
   },
   "file_extension": ".py",
   "mimetype": "text/x-python",
   "name": "python",
   "nbconvert_exporter": "python",
   "pygments_lexer": "ipython3",
   "version": "3.11.8"
  }
 },
 "nbformat": 4,
 "nbformat_minor": 2
}
