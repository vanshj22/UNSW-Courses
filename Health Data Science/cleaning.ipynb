{
 "cells": [
  {
   "cell_type": "code",
   "execution_count": 1,
   "metadata": {},
   "outputs": [],
   "source": [
    "import pandas as pd\n",
    "\n",
    "# GitHub raw URL for the CSV file\n",
    "url = \"https://raw.githubusercontent.com/CBDRH/hds-datathon-data/refs/heads/main/release/epiwatch-latest.csv\"\n",
    "\n",
    "# Read the CSV file from the URL into a pandas DataFrame\n",
    "data = pd.read_csv(url)\n",
    "\n",
    "\n"
   ]
  },
  {
   "cell_type": "code",
   "execution_count": 2,
   "metadata": {},
   "outputs": [
    {
     "name": "stdout",
     "output_type": "stream",
     "text": [
      "<class 'pandas.core.frame.DataFrame'>\n",
      "RangeIndex: 44099 entries, 0 to 44098\n",
      "Data columns (total 9 columns):\n",
      " #   Column            Non-Null Count  Dtype \n",
      "---  ------            --------------  ----- \n",
      " 0   title             44099 non-null  object\n",
      " 1   publication-date  44099 non-null  object\n",
      " 2   event-date        9132 non-null   object\n",
      " 3   country           44099 non-null  object\n",
      " 4   location          26090 non-null  object\n",
      " 5   lat_long          41639 non-null  object\n",
      " 6   diseases          41792 non-null  object\n",
      " 7   syndromes         4600 non-null   object\n",
      " 8   url               44099 non-null  object\n",
      "dtypes: object(9)\n",
      "memory usage: 3.0+ MB\n"
     ]
    }
   ],
   "source": [
    "data.info()"
   ]
  },
  {
   "cell_type": "code",
   "execution_count": 3,
   "metadata": {},
   "outputs": [
    {
     "data": {
      "text/html": [
       "<div>\n",
       "<style scoped>\n",
       "    .dataframe tbody tr th:only-of-type {\n",
       "        vertical-align: middle;\n",
       "    }\n",
       "\n",
       "    .dataframe tbody tr th {\n",
       "        vertical-align: top;\n",
       "    }\n",
       "\n",
       "    .dataframe thead th {\n",
       "        text-align: right;\n",
       "    }\n",
       "</style>\n",
       "<table border=\"1\" class=\"dataframe\">\n",
       "  <thead>\n",
       "    <tr style=\"text-align: right;\">\n",
       "      <th></th>\n",
       "      <th>title</th>\n",
       "      <th>publication-date</th>\n",
       "      <th>event-date</th>\n",
       "      <th>country</th>\n",
       "      <th>location</th>\n",
       "      <th>lat_long</th>\n",
       "      <th>diseases</th>\n",
       "      <th>syndromes</th>\n",
       "      <th>url</th>\n",
       "    </tr>\n",
       "  </thead>\n",
       "  <tbody>\n",
       "    <tr>\n",
       "      <th>0</th>\n",
       "      <td>90123 people sick in one day in the country; D...</td>\n",
       "      <td>2020-09-16</td>\n",
       "      <td>2017-09-16</td>\n",
       "      <td>India</td>\n",
       "      <td>NaN</td>\n",
       "      <td>23.379, 79.443</td>\n",
       "      <td>covid19</td>\n",
       "      <td>NaN</td>\n",
       "      <td>https://www.manoramaonline.com/news/latest-new...</td>\n",
       "    </tr>\n",
       "    <tr>\n",
       "      <th>1</th>\n",
       "      <td>Ludhiana District remains at receiving end;</td>\n",
       "      <td>2020-09-16</td>\n",
       "      <td>2020-09-16</td>\n",
       "      <td>India</td>\n",
       "      <td>Punjab, Ludhiana, Ludhiana</td>\n",
       "      <td>30.907, 75.849</td>\n",
       "      <td>other</td>\n",
       "      <td>severe acute respiratory syndrome</td>\n",
       "      <td>https://www.tribuneindia.com/news/ludhiana/lud...</td>\n",
       "    </tr>\n",
       "    <tr>\n",
       "      <th>2</th>\n",
       "      <td>CIDRAP - India's COVID-19 total tops 5 million...</td>\n",
       "      <td>2020-09-16</td>\n",
       "      <td>2020-09-16</td>\n",
       "      <td>India</td>\n",
       "      <td>NaN</td>\n",
       "      <td>23.379, 79.443</td>\n",
       "      <td>covid19</td>\n",
       "      <td>NaN</td>\n",
       "      <td>https://flutrackers.com/forum/forum/local-regi...</td>\n",
       "    </tr>\n",
       "    <tr>\n",
       "      <th>3</th>\n",
       "      <td>[Myarklamiss.com] LOUISIANA - State reports 42...</td>\n",
       "      <td>2020-09-15</td>\n",
       "      <td>2020-09-15</td>\n",
       "      <td>United States</td>\n",
       "      <td>Louisiana</td>\n",
       "      <td>30.186, -91.426</td>\n",
       "      <td>covid19</td>\n",
       "      <td>NaN</td>\n",
       "      <td>http://outbreaks.globalincidentmap.com/eventde...</td>\n",
       "    </tr>\n",
       "    <tr>\n",
       "      <th>4</th>\n",
       "      <td>[1010 WINS] NEW JERSEY - New Jersey reports 9 ...</td>\n",
       "      <td>2020-09-15</td>\n",
       "      <td>2020-09-15</td>\n",
       "      <td>United States</td>\n",
       "      <td>New Jersey</td>\n",
       "      <td>39.613, -74.729</td>\n",
       "      <td>covid19</td>\n",
       "      <td>NaN</td>\n",
       "      <td>http://outbreaks.globalincidentmap.com/eventde...</td>\n",
       "    </tr>\n",
       "  </tbody>\n",
       "</table>\n",
       "</div>"
      ],
      "text/plain": [
       "                                               title publication-date  \\\n",
       "0  90123 people sick in one day in the country; D...       2020-09-16   \n",
       "1        Ludhiana District remains at receiving end;       2020-09-16   \n",
       "2  CIDRAP - India's COVID-19 total tops 5 million...       2020-09-16   \n",
       "3  [Myarklamiss.com] LOUISIANA - State reports 42...       2020-09-15   \n",
       "4  [1010 WINS] NEW JERSEY - New Jersey reports 9 ...       2020-09-15   \n",
       "\n",
       "   event-date        country                    location         lat_long  \\\n",
       "0  2017-09-16          India                         NaN   23.379, 79.443   \n",
       "1  2020-09-16          India  Punjab, Ludhiana, Ludhiana   30.907, 75.849   \n",
       "2  2020-09-16          India                         NaN   23.379, 79.443   \n",
       "3  2020-09-15  United States                   Louisiana  30.186, -91.426   \n",
       "4  2020-09-15  United States                  New Jersey  39.613, -74.729   \n",
       "\n",
       "  diseases                          syndromes  \\\n",
       "0  covid19                                NaN   \n",
       "1    other  severe acute respiratory syndrome   \n",
       "2  covid19                                NaN   \n",
       "3  covid19                                NaN   \n",
       "4  covid19                                NaN   \n",
       "\n",
       "                                                 url  \n",
       "0  https://www.manoramaonline.com/news/latest-new...  \n",
       "1  https://www.tribuneindia.com/news/ludhiana/lud...  \n",
       "2  https://flutrackers.com/forum/forum/local-regi...  \n",
       "3  http://outbreaks.globalincidentmap.com/eventde...  \n",
       "4  http://outbreaks.globalincidentmap.com/eventde...  "
      ]
     },
     "execution_count": 3,
     "metadata": {},
     "output_type": "execute_result"
    }
   ],
   "source": [
    "data.head()"
   ]
  },
  {
   "cell_type": "code",
   "execution_count": 4,
   "metadata": {},
   "outputs": [
    {
     "name": "stdout",
     "output_type": "stream",
     "text": [
      "<class 'pandas.core.frame.DataFrame'>\n",
      "RangeIndex: 44099 entries, 0 to 44098\n",
      "Data columns (total 9 columns):\n",
      " #   Column            Non-Null Count  Dtype \n",
      "---  ------            --------------  ----- \n",
      " 0   title             44099 non-null  object\n",
      " 1   publication-date  44099 non-null  object\n",
      " 2   event-date        9132 non-null   object\n",
      " 3   country           44099 non-null  object\n",
      " 4   location          26090 non-null  object\n",
      " 5   lat_long          41639 non-null  object\n",
      " 6   diseases          41792 non-null  object\n",
      " 7   syndromes         4600 non-null   object\n",
      " 8   url               44099 non-null  object\n",
      "dtypes: object(9)\n",
      "memory usage: 3.0+ MB\n"
     ]
    }
   ],
   "source": [
    "data.info()"
   ]
  },
  {
   "cell_type": "code",
   "execution_count": 5,
   "metadata": {},
   "outputs": [],
   "source": [
    "data = data.drop_duplicates()"
   ]
  },
  {
   "cell_type": "code",
   "execution_count": 7,
   "metadata": {},
   "outputs": [
    {
     "name": "stdout",
     "output_type": "stream",
     "text": [
      "<class 'pandas.core.frame.DataFrame'>\n",
      "Index: 43985 entries, 0 to 44098\n",
      "Data columns (total 9 columns):\n",
      " #   Column            Non-Null Count  Dtype \n",
      "---  ------            --------------  ----- \n",
      " 0   title             43985 non-null  object\n",
      " 1   publication-date  43985 non-null  object\n",
      " 2   event-date        9080 non-null   object\n",
      " 3   country           43985 non-null  object\n",
      " 4   location          26024 non-null  object\n",
      " 5   lat_long          41528 non-null  object\n",
      " 6   diseases          41680 non-null  object\n",
      " 7   syndromes         4585 non-null   object\n",
      " 8   url               43985 non-null  object\n",
      "dtypes: object(9)\n",
      "memory usage: 3.4+ MB\n"
     ]
    }
   ],
   "source": [
    "data.info()"
   ]
  },
  {
   "cell_type": "code",
   "execution_count": null,
   "metadata": {},
   "outputs": [],
   "source": []
  },
  {
   "cell_type": "code",
   "execution_count": 8,
   "metadata": {},
   "outputs": [
    {
     "data": {
      "text/plain": [
       "title                   0\n",
       "publication-date        0\n",
       "event-date          34905\n",
       "country                 0\n",
       "location            17961\n",
       "lat_long             2457\n",
       "diseases             2305\n",
       "syndromes           39400\n",
       "url                     0\n",
       "dtype: int64"
      ]
     },
     "execution_count": 8,
     "metadata": {},
     "output_type": "execute_result"
    }
   ],
   "source": [
    "data.isnull().sum()"
   ]
  },
  {
   "cell_type": "code",
   "execution_count": 9,
   "metadata": {},
   "outputs": [],
   "source": [
    "data['location'] = data['location'].fillna('unknown')"
   ]
  },
  {
   "cell_type": "code",
   "execution_count": 10,
   "metadata": {},
   "outputs": [],
   "source": [
    "data['diseases'] = data['diseases'].fillna('unknown')"
   ]
  },
  {
   "cell_type": "code",
   "execution_count": 11,
   "metadata": {},
   "outputs": [
    {
     "data": {
      "text/plain": [
       "title                   0\n",
       "publication-date        0\n",
       "event-date          34905\n",
       "country                 0\n",
       "location                0\n",
       "lat_long             2457\n",
       "diseases                0\n",
       "syndromes           39400\n",
       "url                     0\n",
       "dtype: int64"
      ]
     },
     "execution_count": 11,
     "metadata": {},
     "output_type": "execute_result"
    }
   ],
   "source": [
    "data.isnull().sum()"
   ]
  },
  {
   "cell_type": "code",
   "execution_count": 12,
   "metadata": {},
   "outputs": [
    {
     "data": {
      "text/plain": [
       "title                   0\n",
       "publication-date        0\n",
       "event-date          34905\n",
       "country                 0\n",
       "location                0\n",
       "lat_long             2457\n",
       "diseases                0\n",
       "syndromes           39400\n",
       "url                     0\n",
       "dtype: int64"
      ]
     },
     "execution_count": 12,
     "metadata": {},
     "output_type": "execute_result"
    }
   ],
   "source": [
    "data.isnull().sum()"
   ]
  },
  {
   "cell_type": "code",
   "execution_count": 13,
   "metadata": {},
   "outputs": [
    {
     "name": "stdout",
     "output_type": "stream",
     "text": [
      "<class 'pandas.core.frame.DataFrame'>\n",
      "Index: 43985 entries, 0 to 44098\n",
      "Data columns (total 9 columns):\n",
      " #   Column            Non-Null Count  Dtype \n",
      "---  ------            --------------  ----- \n",
      " 0   title             43985 non-null  object\n",
      " 1   publication-date  43985 non-null  object\n",
      " 2   event-date        9080 non-null   object\n",
      " 3   country           43985 non-null  object\n",
      " 4   location          43985 non-null  object\n",
      " 5   lat_long          41528 non-null  object\n",
      " 6   diseases          43985 non-null  object\n",
      " 7   syndromes         4585 non-null   object\n",
      " 8   url               43985 non-null  object\n",
      "dtypes: object(9)\n",
      "memory usage: 3.4+ MB\n"
     ]
    }
   ],
   "source": [
    "data.info()"
   ]
  },
  {
   "cell_type": "code",
   "execution_count": 14,
   "metadata": {},
   "outputs": [
    {
     "data": {
      "text/plain": [
       "diseases\n",
       "covid19                                         21492\n",
       "dengue                                           4429\n",
       "Mpox                                             4124\n",
       "avian influenza/unspecified                      3456\n",
       "unknown                                          2496\n",
       "                                                ...  \n",
       "covid19, measles, tuberculosis                      1\n",
       "dengue, leishmaniasis                               1\n",
       "malaria, measles, mumps                             1\n",
       "dengue, malaria, leptospirosis, Scrub typhus        1\n",
       "dengue, varicella, influenza, rat bite fever        1\n",
       "Name: count, Length: 337, dtype: int64"
      ]
     },
     "execution_count": 14,
     "metadata": {},
     "output_type": "execute_result"
    }
   ],
   "source": [
    "data['diseases'].value_counts()"
   ]
  },
  {
   "cell_type": "code",
   "execution_count": 15,
   "metadata": {},
   "outputs": [],
   "source": [
    "data['diseases'] = data['diseases'].apply(lambda x: x.split(','))"
   ]
  },
  {
   "cell_type": "code",
   "execution_count": 16,
   "metadata": {},
   "outputs": [],
   "source": [
    "target_diseases = {\"covid19\", \"dengue\", \"Mpox\", \"legionnaires'\", \"measles\", \"cholera\"}\n",
    "\n",
    "# Function to clean and keep only the desired diseases\n",
    "def keep_target_diseases(disease_list):\n",
    "    filtered_diseases = [\n",
    "        disease for disease in disease_list\n",
    "        if disease.lower() in target_diseases or \"influenza\" in disease.lower()\n",
    "    ]\n",
    "    return filtered_diseases if filtered_diseases else None\n",
    "\n",
    "# Apply the cleaning function to the 'diseases' column\n",
    "data['diseases'] = data['diseases'].apply(keep_target_diseases)\n",
    "df_filtered = data.dropna(subset=['diseases']).reset_index(drop=True)"
   ]
  },
  {
   "cell_type": "code",
   "execution_count": null,
   "metadata": {},
   "outputs": [],
   "source": []
  },
  {
   "cell_type": "code",
   "execution_count": 17,
   "metadata": {},
   "outputs": [
    {
     "name": "stdout",
     "output_type": "stream",
     "text": [
      "<class 'pandas.core.frame.DataFrame'>\n",
      "RangeIndex: 36577 entries, 0 to 36576\n",
      "Data columns (total 9 columns):\n",
      " #   Column            Non-Null Count  Dtype \n",
      "---  ------            --------------  ----- \n",
      " 0   title             36577 non-null  object\n",
      " 1   publication-date  36577 non-null  object\n",
      " 2   event-date        8148 non-null   object\n",
      " 3   country           36577 non-null  object\n",
      " 4   location          36577 non-null  object\n",
      " 5   lat_long          34557 non-null  object\n",
      " 6   diseases          36577 non-null  object\n",
      " 7   syndromes         1629 non-null   object\n",
      " 8   url               36577 non-null  object\n",
      "dtypes: object(9)\n",
      "memory usage: 2.5+ MB\n"
     ]
    }
   ],
   "source": [
    "df_filtered.info()"
   ]
  },
  {
   "cell_type": "code",
   "execution_count": 18,
   "metadata": {},
   "outputs": [],
   "source": [
    "df_filtered.to_csv('filter_1.csv', index=False)\n"
   ]
  },
  {
   "cell_type": "code",
   "execution_count": 19,
   "metadata": {},
   "outputs": [
    {
     "data": {
      "text/plain": [
       "diseases\n",
       "[covid19]                                            21722\n",
       "[dengue]                                              4650\n",
       "[avian influenza/unspecified]                         3458\n",
       "[influenza]                                           1202\n",
       "[influenza a/h5n1]                                    1016\n",
       "                                                     ...  \n",
       "[influenza,  influenza a/h5n8,  influenza a/h5n6]        1\n",
       "[measles,  influenza b]                                  1\n",
       "[influenza a/h3n5]                                       1\n",
       "[ influenza,  influenza a/h5n8]                          1\n",
       "[ avian influenza/unspecified]                           1\n",
       "Name: count, Length: 71, dtype: int64"
      ]
     },
     "execution_count": 19,
     "metadata": {},
     "output_type": "execute_result"
    }
   ],
   "source": [
    "df_filtered['diseases'].value_counts()"
   ]
  },
  {
   "cell_type": "code",
   "execution_count": 20,
   "metadata": {},
   "outputs": [
    {
     "data": {
      "text/plain": [
       "[' Influenza A',\n",
       " ' avian influenza/unspecified',\n",
       " ' influenza',\n",
       " ' influenza a/h1n1',\n",
       " ' influenza a/h1n2',\n",
       " ' influenza a/h3n2',\n",
       " ' influenza a/h3n8',\n",
       " ' influenza a/h5n1',\n",
       " ' influenza a/h5n6',\n",
       " ' influenza a/h5n8',\n",
       " ' influenza a/h9n2',\n",
       " ' influenza b',\n",
       " ' influenza/h5n2',\n",
       " ' influenza/h5n5',\n",
       " 'Influenza A',\n",
       " 'avian influenza/unspecified',\n",
       " 'cholera',\n",
       " 'covid19',\n",
       " 'dengue',\n",
       " 'influenza',\n",
       " 'influenza a/h10n3',\n",
       " 'influenza a/h1n1',\n",
       " 'influenza a/h1n2',\n",
       " 'influenza a/h2n2',\n",
       " 'influenza a/h3n2',\n",
       " 'influenza a/h3n5',\n",
       " 'influenza a/h3n8',\n",
       " 'influenza a/h5n1',\n",
       " 'influenza a/h5n6',\n",
       " 'influenza a/h5n8',\n",
       " 'influenza a/h7n3',\n",
       " 'influenza a/h7n9',\n",
       " 'influenza a/h9n2',\n",
       " 'influenza b',\n",
       " 'influenza/h5n2',\n",
       " 'influenza/h5n5',\n",
       " \"legionnaires'\",\n",
       " 'measles']"
      ]
     },
     "execution_count": 20,
     "metadata": {},
     "output_type": "execute_result"
    }
   ],
   "source": [
    "unique_diseases = set(disease for disease_list in df_filtered['diseases'] for disease in disease_list)\n",
    "\n",
    "# Convert to a sorted list (optional)\n",
    "unique_diseases = sorted(unique_diseases)\n",
    "unique_diseases"
   ]
  },
  {
   "cell_type": "code",
   "execution_count": 21,
   "metadata": {},
   "outputs": [],
   "source": [
    "df_filtered['syndromes'] = df_filtered['syndromes'].apply(lambda x: [] if pd.isna(x) else x.split(','))"
   ]
  },
  {
   "cell_type": "code",
   "execution_count": 22,
   "metadata": {},
   "outputs": [
    {
     "data": {
      "text/plain": [
       "syndromes\n",
       "[]                                                                          34948\n",
       "[severe acute respiratory syndrome]                                          1060\n",
       "[severe acute respiratory syndrome,  Influenza-like illness]                  183\n",
       "[Haemorrhagic Fever]                                                          161\n",
       "[Influenza-like illness]                                                       54\n",
       "[pneumonia]                                                                    50\n",
       "[Acute gastroenteritis]                                                        50\n",
       "[Febrile syndromes]                                                            35\n",
       "[Influenza-like illness,  Febrile syndromes]                                   13\n",
       "[Meningitis]                                                                    6\n",
       "[severe acute respiratory syndrome,  Febrile syndromes]                         4\n",
       "[Acute fever and rash]                                                          2\n",
       "[Febrile syndromes,  pneumonia]                                                 2\n",
       "[Acute gastroenteritis,  Febrile syndromes]                                     2\n",
       "[Acute gastroenteritis,  Influenza-like illness]                                1\n",
       "[Acute gastroenteritis,  Influenza-like illness,  Febrile syndromes]            1\n",
       "[Fatigue]                                                                       1\n",
       "[Acute gastroenteritis,  pneumonia]                                             1\n",
       "[Acute Flaccid Paralysis]                                                       1\n",
       "[severe acute respiratory syndrome,  Influenza-like illness,  pneumonia]        1\n",
       "[Encephalitis]                                                                  1\n",
       "Name: count, dtype: int64"
      ]
     },
     "execution_count": 22,
     "metadata": {},
     "output_type": "execute_result"
    }
   ],
   "source": [
    "df_filtered['syndromes'].value_counts()"
   ]
  },
  {
   "cell_type": "code",
   "execution_count": 23,
   "metadata": {},
   "outputs": [
    {
     "data": {
      "text/html": [
       "<div>\n",
       "<style scoped>\n",
       "    .dataframe tbody tr th:only-of-type {\n",
       "        vertical-align: middle;\n",
       "    }\n",
       "\n",
       "    .dataframe tbody tr th {\n",
       "        vertical-align: top;\n",
       "    }\n",
       "\n",
       "    .dataframe thead th {\n",
       "        text-align: right;\n",
       "    }\n",
       "</style>\n",
       "<table border=\"1\" class=\"dataframe\">\n",
       "  <thead>\n",
       "    <tr style=\"text-align: right;\">\n",
       "      <th></th>\n",
       "      <th>diseases</th>\n",
       "      <th>syndromes</th>\n",
       "    </tr>\n",
       "  </thead>\n",
       "  <tbody>\n",
       "    <tr>\n",
       "      <th>0</th>\n",
       "      <td>[covid19]</td>\n",
       "      <td>[]</td>\n",
       "    </tr>\n",
       "    <tr>\n",
       "      <th>1</th>\n",
       "      <td>[covid19]</td>\n",
       "      <td>[]</td>\n",
       "    </tr>\n",
       "    <tr>\n",
       "      <th>2</th>\n",
       "      <td>[covid19]</td>\n",
       "      <td>[]</td>\n",
       "    </tr>\n",
       "    <tr>\n",
       "      <th>3</th>\n",
       "      <td>[covid19]</td>\n",
       "      <td>[]</td>\n",
       "    </tr>\n",
       "    <tr>\n",
       "      <th>4</th>\n",
       "      <td>[covid19]</td>\n",
       "      <td>[]</td>\n",
       "    </tr>\n",
       "    <tr>\n",
       "      <th>...</th>\n",
       "      <td>...</td>\n",
       "      <td>...</td>\n",
       "    </tr>\n",
       "    <tr>\n",
       "      <th>36572</th>\n",
       "      <td>[dengue]</td>\n",
       "      <td>[]</td>\n",
       "    </tr>\n",
       "    <tr>\n",
       "      <th>36573</th>\n",
       "      <td>[dengue]</td>\n",
       "      <td>[]</td>\n",
       "    </tr>\n",
       "    <tr>\n",
       "      <th>36574</th>\n",
       "      <td>[covid19]</td>\n",
       "      <td>[]</td>\n",
       "    </tr>\n",
       "    <tr>\n",
       "      <th>36575</th>\n",
       "      <td>[covid19]</td>\n",
       "      <td>[]</td>\n",
       "    </tr>\n",
       "    <tr>\n",
       "      <th>36576</th>\n",
       "      <td>[covid19]</td>\n",
       "      <td>[]</td>\n",
       "    </tr>\n",
       "  </tbody>\n",
       "</table>\n",
       "<p>36577 rows × 2 columns</p>\n",
       "</div>"
      ],
      "text/plain": [
       "        diseases syndromes\n",
       "0      [covid19]        []\n",
       "1      [covid19]        []\n",
       "2      [covid19]        []\n",
       "3      [covid19]        []\n",
       "4      [covid19]        []\n",
       "...          ...       ...\n",
       "36572   [dengue]        []\n",
       "36573   [dengue]        []\n",
       "36574  [covid19]        []\n",
       "36575  [covid19]        []\n",
       "36576  [covid19]        []\n",
       "\n",
       "[36577 rows x 2 columns]"
      ]
     },
     "execution_count": 23,
     "metadata": {},
     "output_type": "execute_result"
    }
   ],
   "source": [
    "df_filtered[['diseases', 'syndromes']]"
   ]
  },
  {
   "cell_type": "code",
   "execution_count": 24,
   "metadata": {},
   "outputs": [
    {
     "data": {
      "text/plain": [
       "diseases\n",
       "[covid19]                                            21722\n",
       "[dengue]                                              4650\n",
       "[avian influenza/unspecified]                         3458\n",
       "[influenza]                                           1202\n",
       "[influenza a/h5n1]                                    1016\n",
       "                                                     ...  \n",
       "[influenza,  influenza a/h5n8,  influenza a/h5n6]        1\n",
       "[measles,  influenza b]                                  1\n",
       "[influenza a/h3n5]                                       1\n",
       "[ influenza,  influenza a/h5n8]                          1\n",
       "[ avian influenza/unspecified]                           1\n",
       "Name: count, Length: 71, dtype: int64"
      ]
     },
     "execution_count": 24,
     "metadata": {},
     "output_type": "execute_result"
    }
   ],
   "source": [
    "data['diseases'].value_counts()"
   ]
  },
  {
   "cell_type": "code",
   "execution_count": 25,
   "metadata": {},
   "outputs": [
    {
     "data": {
      "text/plain": [
       "syndromes\n",
       "Acute gastroenteritis                                                              1261\n",
       "severe acute respiratory syndrome                                                  1246\n",
       "Febrile syndromes                                                                   483\n",
       "Tomato fever                                                                        308\n",
       "Influenza-like illness                                                              264\n",
       "Haemorrhagic Fever                                                                  211\n",
       "pneumonia                                                                           205\n",
       "severe acute respiratory syndrome, Influenza-like illness                           189\n",
       "Meningitis                                                                          115\n",
       "Acute fever and rash                                                                 62\n",
       "Encephalitis                                                                         56\n",
       "Acute gastroenteritis, Febrile syndromes                                             47\n",
       "Influenza-like illness, Febrile syndromes                                            27\n",
       "conjunctivitis                                                                       17\n",
       "Jaundice                                                                             15\n",
       "Acute Flaccid Paralysis                                                              13\n",
       "severe acute respiratory syndrome, Febrile syndromes                                  8\n",
       "Acute gastroenteritis, Influenza-like illness                                         7\n",
       "hemolytic uremic syndrome                                                             7\n",
       "Acute gastroenteritis, pneumonia                                                      7\n",
       "Febrile syndromes, Encephalitis                                                       4\n",
       "Febrile syndromes, pneumonia                                                          4\n",
       "Haemorrhagic Fever, Encephalitis                                                      3\n",
       "Acute gastroenteritis, severe acute respiratory syndrome                              3\n",
       "Acute gastroenteritis, Acute fever and rash                                           3\n",
       "Acute gastroenteritis, Influenza-like illness, Febrile syndromes                      2\n",
       "Febrile syndromes, Meningitis                                                         2\n",
       "severe acute respiratory syndrome, Acute fever and rash                               2\n",
       "Haemorrhagic Fever, severe acute respiratory syndrome, Acute fever and rash           1\n",
       "severe acute respiratory syndrome, Influenza-like illness, Acute fever and rash       1\n",
       "Haemorrhagic Fever, Acute gastroenteritis                                             1\n",
       "Influenza-like illness, Encephalitis                                                  1\n",
       "Influenza-like illness, pneumonia                                                     1\n",
       "melioidosis                                                                           1\n",
       "Fatigue                                                                               1\n",
       "severe acute respiratory syndrome, Influenza-like illness, pneumonia                  1\n",
       "Acute gastroenteritis, Meningitis                                                     1\n",
       "other paralysis                                                                       1\n",
       "Febrile syndromes, conjunctivitis                                                     1\n",
       "Encephalomyelitis                                                                     1\n",
       "Acute Flaccid Paralysis, Febrile syndromes, Meningitis                                1\n",
       "severe acute respiratory syndrome, pneumonia                                          1\n",
       "Name: count, dtype: int64"
      ]
     },
     "execution_count": 25,
     "metadata": {},
     "output_type": "execute_result"
    }
   ],
   "source": [
    "data['syndromes'].value_counts()"
   ]
  },
  {
   "cell_type": "code",
   "execution_count": 26,
   "metadata": {},
   "outputs": [
    {
     "name": "stdout",
     "output_type": "stream",
     "text": [
      "<class 'pandas.core.frame.DataFrame'>\n",
      "Index: 43985 entries, 0 to 44098\n",
      "Data columns (total 9 columns):\n",
      " #   Column            Non-Null Count  Dtype \n",
      "---  ------            --------------  ----- \n",
      " 0   title             43985 non-null  object\n",
      " 1   publication-date  43985 non-null  object\n",
      " 2   event-date        9080 non-null   object\n",
      " 3   country           43985 non-null  object\n",
      " 4   location          43985 non-null  object\n",
      " 5   lat_long          41528 non-null  object\n",
      " 6   diseases          36577 non-null  object\n",
      " 7   syndromes         4585 non-null   object\n",
      " 8   url               43985 non-null  object\n",
      "dtypes: object(9)\n",
      "memory usage: 3.4+ MB\n"
     ]
    }
   ],
   "source": [
    "data.info()"
   ]
  },
  {
   "cell_type": "code",
   "execution_count": null,
   "metadata": {},
   "outputs": [],
   "source": [
    "bre"
   ]
  },
  {
   "cell_type": "code",
   "execution_count": 2,
   "metadata": {},
   "outputs": [
    {
     "name": "stdout",
     "output_type": "stream",
     "text": [
      "<class 'pandas.core.frame.DataFrame'>\n",
      "RangeIndex: 21464 entries, 0 to 21463\n",
      "Data columns (total 11 columns):\n",
      " #   Column            Non-Null Count  Dtype \n",
      "---  ------            --------------  ----- \n",
      " 0   title             21464 non-null  object\n",
      " 1   publication-date  21464 non-null  object\n",
      " 2   event-date        4376 non-null   object\n",
      " 3   country           21464 non-null  object\n",
      " 4   location          21464 non-null  object\n",
      " 5   lat_long          20449 non-null  object\n",
      " 6   diseases          21464 non-null  object\n",
      " 7   syndromes         859 non-null    object\n",
      " 8   url               21464 non-null  object\n",
      " 9   is_available      21464 non-null  bool  \n",
      " 10  extracted         21464 non-null  object\n",
      "dtypes: bool(1), object(10)\n",
      "memory usage: 1.7+ MB\n"
     ]
    }
   ],
   "source": [
    "import pandas as pd\n",
    "df = pd.read_csv('argos_translate.csv')\n",
    "df.info()\n"
   ]
  },
  {
   "cell_type": "code",
   "execution_count": 3,
   "metadata": {},
   "outputs": [
    {
     "name": "stdout",
     "output_type": "stream",
     "text": [
      "<class 'pandas.core.frame.DataFrame'>\n",
      "Index: 10521 entries, 0 to 21463\n",
      "Data columns (total 11 columns):\n",
      " #   Column            Non-Null Count  Dtype \n",
      "---  ------            --------------  ----- \n",
      " 0   title             10521 non-null  object\n",
      " 1   publication-date  10521 non-null  object\n",
      " 2   event-date        2194 non-null   object\n",
      " 3   country           10521 non-null  object\n",
      " 4   location          10521 non-null  object\n",
      " 5   lat_long          10042 non-null  object\n",
      " 6   diseases          10521 non-null  object\n",
      " 7   syndromes         399 non-null    object\n",
      " 8   url               10521 non-null  object\n",
      " 9   is_available      10521 non-null  bool  \n",
      " 10  extracted         10521 non-null  object\n",
      "dtypes: bool(1), object(10)\n",
      "memory usage: 914.4+ KB\n"
     ]
    }
   ],
   "source": [
    "\n",
    "df = df[df['extracted'] != 'ClientError']\n",
    "df = df[df['extracted'] != 'Translation failed']\n",
    "df = df[df['extracted'] != 'Unknown']\n",
    "df.info()\n"
   ]
  },
  {
   "cell_type": "code",
   "execution_count": 4,
   "metadata": {},
   "outputs": [],
   "source": [
    "# Save the filtered DataFrame to a new CSV\n",
    "df.to_csv('cleaned_argos_translate.csv', index=False)"
   ]
  }
 ],
 "metadata": {
  "kernelspec": {
   "display_name": "workshop",
   "language": "python",
   "name": "python3"
  },
  "language_info": {
   "codemirror_mode": {
    "name": "ipython",
    "version": 3
   },
   "file_extension": ".py",
   "mimetype": "text/x-python",
   "name": "python",
   "nbconvert_exporter": "python",
   "pygments_lexer": "ipython3",
   "version": "3.11.8"
  }
 },
 "nbformat": 4,
 "nbformat_minor": 2
}
