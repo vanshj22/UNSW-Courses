{
 "cells": [
  {
   "cell_type": "code",
   "execution_count": null,
   "metadata": {},
   "outputs": [],
   "source": [
    "from IPython.core.interactiveshell import InteractiveShell\n",
    "InteractiveShell.ast_node_interactivity = 'all'"
   ]
  },
  {
   "cell_type": "code",
   "execution_count": null,
   "metadata": {},
   "outputs": [],
   "source": [
    "def hanoi(n, start_pos , end_pos, help_pos):\n",
    "    if n == 1:\n",
    "        print(f'Move disk from {start_pos} to {end_pos}')\n",
    "    else:\n",
    "        hanoi(n-1, start_pos, help_pos, end_pos)\n",
    "        print(f'Move disk from {start_pos} to {end_pos}')\n",
    "        hanoi(n-1, help_pos, end_pos, start_pos)"
   ]
  },
  {
   "cell_type": "code",
   "execution_count": 5,
   "metadata": {},
   "outputs": [],
   "source": [
    "def hanoi(n, start_pos , end_pos, help_pos):\n",
    "    if n > 1:\n",
    "        hanoi(n-1, start_pos, help_pos, end_pos)\n",
    "    print(f'Move disk of size {n} from {start_pos} to {end_pos}')\n",
    "    if n > 1:\n",
    "        hanoi(n-1, help_pos, end_pos, start_pos)"
   ]
  },
  {
   "cell_type": "code",
   "execution_count": 6,
   "metadata": {},
   "outputs": [
    {
     "name": "stdout",
     "output_type": "stream",
     "text": [
      "Move disk of size 1 from A to C\n"
     ]
    }
   ],
   "source": [
    "hanoi(1, 'A', 'C', 'B')"
   ]
  },
  {
   "cell_type": "code",
   "execution_count": 7,
   "metadata": {},
   "outputs": [
    {
     "name": "stdout",
     "output_type": "stream",
     "text": [
      "Move disk of size 1 from A to B\n",
      "Move disk of size 2 from A to C\n",
      "Move disk of size 1 from B to C\n"
     ]
    }
   ],
   "source": [
    "hanoi(2, 'A', 'C', 'B')\n"
   ]
  },
  {
   "cell_type": "code",
   "execution_count": 8,
   "metadata": {},
   "outputs": [
    {
     "name": "stdout",
     "output_type": "stream",
     "text": [
      "Move disk of size 1 from A to C\n",
      "Move disk of size 2 from A to B\n",
      "Move disk of size 1 from C to B\n",
      "Move disk of size 3 from A to C\n",
      "Move disk of size 1 from B to A\n",
      "Move disk of size 2 from B to C\n",
      "Move disk of size 1 from A to C\n"
     ]
    }
   ],
   "source": [
    "hanoi(3, 'A', 'C', 'B')\n"
   ]
  },
  {
   "cell_type": "code",
   "execution_count": 6,
   "metadata": {},
   "outputs": [],
   "source": [
    "def hanoi_2(n, start_pos , end_pos, help_pos):\n",
    "    stacks = list(range(n, 0, -1)), [], []\n",
    "    smallest_disk_pos = 0\n",
    "    direction = 1 if n % 2 == 0 else -1\n",
    "    for i in range( 2** n-1):\n",
    "        if i % 2 == 0:\n",
    "            smallest_disk_new_pos = (direction + smallest_disk_pos) % 3 \n",
    "            print(f'Move smallest disk  from {smallest_disk_new_pos} to {smallest_disk_new_pos}')\n",
    "            stacks[smallest_disk_new_pos].append(stacks[smallest_disk_pos].pop())\n",
    "            smallest_disk_pos = smallest_disk_new_pos\n",
    "        else:\n",
    "            from_pos, to_pos = (smallest_disk_pos + 1) % 3, (smallest_disk_pos + 2) % 3\n",
    "            if not stacks[from_pos]\\\n",
    "                or stacks[to_pos] and stacks[to_pos][-1] < stacks[from_pos][-1]:\n",
    "                from_pos, to_pos = to_pos, from_pos\n",
    "            print(f'Move disk of size {stacks[from_pos][-1]} from {from_pos} to {to_pos}')\n",
    "            stacks[to_pos].append(stacks[from_pos].pop())\n"
   ]
  },
  {
   "cell_type": "code",
   "execution_count": 7,
   "metadata": {},
   "outputs": [
    {
     "name": "stdout",
     "output_type": "stream",
     "text": [
      "Move smallest disk  from 2 to 2\n"
     ]
    }
   ],
   "source": [
    "hanoi_2(1, 'A', 'C', 'B')"
   ]
  },
  {
   "cell_type": "code",
   "execution_count": 8,
   "metadata": {},
   "outputs": [
    {
     "name": "stdout",
     "output_type": "stream",
     "text": [
      "Move smallest disk  from 2 to 2\n",
      "Move disk of size 2 from 0 to 1\n",
      "Move smallest disk  from 1 to 1\n",
      "Move disk of size 3 from 0 to 2\n",
      "Move smallest disk  from 0 to 0\n",
      "Move disk of size 2 from 1 to 2\n",
      "Move smallest disk  from 2 to 2\n"
     ]
    }
   ],
   "source": [
    "hanoi_2(3, 'A', 'C', 'B')\n"
   ]
  },
  {
   "cell_type": "code",
   "execution_count": 1,
   "metadata": {},
   "outputs": [],
   "source": [
    "def permute(L):\n",
    "    if len(L)==1:\n",
    "        yield L\n",
    "    for i in range(len(L)):\n",
    "        for L1 in permute(L[:i]+L[i+1:]):\n",
    "            yield L1 + [L[i]]\n",
    "    "
   ]
  },
  {
   "cell_type": "code",
   "execution_count": 5,
   "metadata": {},
   "outputs": [
    {
     "data": {
      "text/plain": [
       "[[3, 2, 1], [2, 3, 1], [3, 1, 2], [1, 3, 2], [2, 1, 3], [1, 2, 3]]"
      ]
     },
     "execution_count": 5,
     "metadata": {},
     "output_type": "execute_result"
    }
   ],
   "source": [
    "list(permute([1,2,3]))"
   ]
  },
  {
   "cell_type": "code",
   "execution_count": null,
   "metadata": {},
   "outputs": [],
   "source": []
  },
  {
   "cell_type": "code",
   "execution_count": null,
   "metadata": {},
   "outputs": [],
   "source": []
  },
  {
   "cell_type": "code",
   "execution_count": null,
   "metadata": {},
   "outputs": [],
   "source": []
  },
  {
   "cell_type": "code",
   "execution_count": null,
   "metadata": {},
   "outputs": [],
   "source": []
  }
 ],
 "metadata": {
  "kernelspec": {
   "display_name": "pop",
   "language": "python",
   "name": "python3"
  },
  "language_info": {
   "codemirror_mode": {
    "name": "ipython",
    "version": 3
   },
   "file_extension": ".py",
   "mimetype": "text/x-python",
   "name": "python",
   "nbconvert_exporter": "python",
   "pygments_lexer": "ipython3",
   "version": "3.10.14"
  }
 },
 "nbformat": 4,
 "nbformat_minor": 2
}
