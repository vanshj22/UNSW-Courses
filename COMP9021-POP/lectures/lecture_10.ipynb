{
 "cells": [
  {
   "cell_type": "code",
   "execution_count": 1,
   "metadata": {},
   "outputs": [],
   "source": [
    "from IPython.core.interactiveshell import InteractiveShell\n",
    "InteractiveShell.ast_node_interactivity = 'all'"
   ]
  },
  {
   "cell_type": "code",
   "execution_count": 2,
   "metadata": {},
   "outputs": [
    {
     "data": {
      "text/plain": [
       "[[0, 0, 0, 0, 0, 0, 0, 0, 0, 0],\n",
       " [0, 0, 0, 0, 0, 0, 0, 0, 0, 0],\n",
       " [0, 0, 0, 0, 0, 0, 0, 0, 0, 0],\n",
       " [0, 0, 0, 0, 0, 0, 0, 0, 0, 0],\n",
       " [0, 0, 0, 0, 0, 0, 0, 0, 0, 0],\n",
       " [0, 0, 0, 0, 0, 0, 0, 0, 0, 0],\n",
       " [0, 0, 0, 0, 0, 0, 0, 0, 0, 0],\n",
       " [0, 0, 0, 0, 0, 0, 0, 0, 0, 0],\n",
       " [0, 0, 0, 0, 0, 0, 0, 0, 0, 0],\n",
       " [0, 0, 0, 0, 0, 0, 0, 0, 0, 0]]"
      ]
     },
     "execution_count": 2,
     "metadata": {},
     "output_type": "execute_result"
    }
   ],
   "source": [
    "grid = [[0] *  10] * 10\n",
    "grid"
   ]
  },
  {
   "cell_type": "code",
   "execution_count": 3,
   "metadata": {},
   "outputs": [],
   "source": [
    "def display_grid():\n",
    "    for row in grid:\n",
    "        print(*row)"
   ]
  },
  {
   "cell_type": "code",
   "execution_count": 4,
   "metadata": {},
   "outputs": [
    {
     "name": "stdout",
     "output_type": "stream",
     "text": [
      "0 0 0 0 0 0 0 0 0 0\n",
      "0 0 0 0 0 0 0 0 0 0\n",
      "0 0 0 0 0 0 0 0 0 0\n",
      "0 0 0 0 0 0 0 0 0 0\n",
      "0 0 0 0 0 0 0 0 0 0\n",
      "0 0 0 0 0 0 0 0 0 0\n",
      "0 0 0 0 0 0 0 0 0 0\n",
      "0 0 0 0 0 0 0 0 0 0\n",
      "0 0 0 0 0 0 0 0 0 0\n",
      "0 0 0 0 0 0 0 0 0 0\n"
     ]
    }
   ],
   "source": [
    "display_grid()"
   ]
  },
  {
   "cell_type": "code",
   "execution_count": 5,
   "metadata": {},
   "outputs": [],
   "source": [
    "squares = {0: '\\u2b1c', 1: '\\u2b1b'}"
   ]
  },
  {
   "cell_type": "code",
   "execution_count": 6,
   "metadata": {},
   "outputs": [
    {
     "data": {
      "text/plain": [
       "('⬜', '⬛')"
      ]
     },
     "execution_count": 6,
     "metadata": {},
     "output_type": "execute_result"
    }
   ],
   "source": [
    "'\\u2b1c', '\\u2b1b'"
   ]
  },
  {
   "cell_type": "code",
   "execution_count": 7,
   "metadata": {},
   "outputs": [],
   "source": [
    "def display_grid():\n",
    "    for row in grid:\n",
    "        print(''.join(squares[e] for e in row))"
   ]
  },
  {
   "cell_type": "code",
   "execution_count": 8,
   "metadata": {},
   "outputs": [
    {
     "name": "stdout",
     "output_type": "stream",
     "text": [
      "⬜⬜⬜⬜⬜⬜⬜⬜⬜⬜\n",
      "⬜⬜⬜⬜⬜⬜⬜⬜⬜⬜\n",
      "⬜⬜⬜⬜⬜⬜⬜⬜⬜⬜\n",
      "⬜⬜⬜⬜⬜⬜⬜⬜⬜⬜\n",
      "⬜⬜⬜⬜⬜⬜⬜⬜⬜⬜\n",
      "⬜⬜⬜⬜⬜⬜⬜⬜⬜⬜\n",
      "⬜⬜⬜⬜⬜⬜⬜⬜⬜⬜\n",
      "⬜⬜⬜⬜⬜⬜⬜⬜⬜⬜\n",
      "⬜⬜⬜⬜⬜⬜⬜⬜⬜⬜\n",
      "⬜⬜⬜⬜⬜⬜⬜⬜⬜⬜\n"
     ]
    }
   ],
   "source": [
    "display_grid()"
   ]
  },
  {
   "cell_type": "code",
   "execution_count": 9,
   "metadata": {},
   "outputs": [],
   "source": [
    "from random import random"
   ]
  },
  {
   "cell_type": "code",
   "execution_count": 10,
   "metadata": {},
   "outputs": [],
   "source": [
    "density = 0.2"
   ]
  },
  {
   "cell_type": "code",
   "execution_count": 11,
   "metadata": {},
   "outputs": [
    {
     "data": {
      "text/plain": [
       "0.06869219332232668"
      ]
     },
     "execution_count": 11,
     "metadata": {},
     "output_type": "execute_result"
    }
   ],
   "source": [
    "random()"
   ]
  },
  {
   "cell_type": "code",
   "execution_count": 12,
   "metadata": {},
   "outputs": [],
   "source": [
    "for i in range(10):\n",
    "    for j in range(10):\n",
    "        if random()< density:\n",
    "            grid[i][j] = 1"
   ]
  },
  {
   "cell_type": "code",
   "execution_count": 13,
   "metadata": {},
   "outputs": [
    {
     "name": "stdout",
     "output_type": "stream",
     "text": [
      "⬛⬛⬛⬛⬜⬛⬛⬛⬛⬛\n",
      "⬛⬛⬛⬛⬜⬛⬛⬛⬛⬛\n",
      "⬛⬛⬛⬛⬜⬛⬛⬛⬛⬛\n",
      "⬛⬛⬛⬛⬜⬛⬛⬛⬛⬛\n",
      "⬛⬛⬛⬛⬜⬛⬛⬛⬛⬛\n",
      "⬛⬛⬛⬛⬜⬛⬛⬛⬛⬛\n",
      "⬛⬛⬛⬛⬜⬛⬛⬛⬛⬛\n",
      "⬛⬛⬛⬛⬜⬛⬛⬛⬛⬛\n",
      "⬛⬛⬛⬛⬜⬛⬛⬛⬛⬛\n",
      "⬛⬛⬛⬛⬜⬛⬛⬛⬛⬛\n"
     ]
    }
   ],
   "source": [
    "display_grid()"
   ]
  },
  {
   "cell_type": "code",
   "execution_count": 14,
   "metadata": {},
   "outputs": [
    {
     "data": {
      "text/plain": [
       "[[0, 0, 0, 0, 0, 0, 0, 0, 0, 0],\n",
       " [0, 0, 0, 0, 0, 0, 0, 0, 0, 0],\n",
       " [0, 0, 0, 0, 0, 0, 0, 0, 0, 0],\n",
       " [0, 0, 0, 0, 0, 0, 0, 0, 0, 0],\n",
       " [0, 0, 0, 0, 0, 0, 0, 0, 0, 0],\n",
       " [0, 0, 0, 0, 0, 0, 0, 0, 0, 0],\n",
       " [0, 0, 0, 0, 0, 0, 0, 0, 0, 0],\n",
       " [0, 0, 0, 0, 0, 0, 0, 0, 0, 0],\n",
       " [0, 0, 0, 0, 0, 0, 0, 0, 0, 0],\n",
       " [0, 0, 0, 0, 0, 0, 0, 0, 0, 0]]"
      ]
     },
     "execution_count": 14,
     "metadata": {},
     "output_type": "execute_result"
    }
   ],
   "source": [
    "L = [[0] *10 for _ in range(10)] # every row is unique , not element\n",
    "L"
   ]
  },
  {
   "cell_type": "code",
   "execution_count": 19,
   "metadata": {},
   "outputs": [
    {
     "data": {
      "text/plain": [
       "[[0, 0, 0, 0, 0, 0, 0, 0, 0, 0],\n",
       " [0, 0, 0, 0, 0, 0, 0, 0, 0, 0],\n",
       " [0, 0, 0, 0, 0, 0, 0, 0, 0, 0],\n",
       " [0, 0, 0, 0, 0, 0, 0, 0, 0, 0],\n",
       " [0, 0, 0, 0, 0, 0, 0, 0, 0, 0],\n",
       " [0, 0, 0, 0, 0, 0, 0, 0, 0, 0],\n",
       " [0, 0, 0, 0, 0, 0, 0, 0, 0, 0],\n",
       " [0, 0, 0, 0, 0, 0, 0, 0, 0, 0],\n",
       " [0, 0, 0, 0, 0, 0, 0, 0, 0, 0],\n",
       " [0, 0, 0, 0, 0, 0, 0, 0, 0, 0]]"
      ]
     },
     "execution_count": 19,
     "metadata": {},
     "output_type": "execute_result"
    }
   ],
   "source": [
    "L = [[0 for _ in range(10)] for _ in range(10)] # every row and element  is unique \n",
    "L"
   ]
  },
  {
   "cell_type": "code",
   "execution_count": 54,
   "metadata": {},
   "outputs": [
    {
     "name": "stdout",
     "output_type": "stream",
     "text": [
      "⬛⬜⬜⬜⬜⬜⬜⬜⬜⬜\n",
      "⬜⬜⬜⬜⬜⬜⬜⬜⬜⬜\n",
      "⬜⬜⬛⬜⬜⬜⬜⬜⬜⬜\n",
      "⬜⬜⬜⬜⬜⬜⬜⬜⬜⬜\n",
      "⬜⬜⬜⬜⬜⬜⬜⬛⬛⬜\n",
      "⬛⬜⬜⬜⬜⬛⬛⬛⬜⬜\n",
      "⬜⬜⬜⬛⬛⬜⬛⬜⬜⬜\n",
      "⬜⬛⬜⬜⬛⬜⬜⬜⬜⬜\n",
      "⬜⬜⬜⬜⬜⬜⬜⬜⬜⬜\n",
      "⬜⬛⬛⬜⬜⬜⬜⬛⬜⬜\n"
     ]
    }
   ],
   "source": [
    "grid = [[0 for _ in range(10)] for _ in range(10)]\n",
    "\n",
    "for i in range(10):\n",
    "    for j in range(10):\n",
    "        if random()< density:\n",
    "            grid[i][j] = 1\n",
    "\n",
    "display_grid()\n"
   ]
  },
  {
   "cell_type": "code",
   "execution_count": 62,
   "metadata": {},
   "outputs": [
    {
     "name": "stdout",
     "output_type": "stream",
     "text": [
      "⬜⬜⬛⬜⬜⬜⬜⬜⬛⬜\n",
      "⬜⬜⬜⬜⬜⬜⬛⬜⬜⬜\n",
      "⬜⬛⬜⬜⬜⬛⬜⬜⬜⬜\n",
      "⬛⬜⬜⬜⬜⬛⬜⬜⬜⬜\n",
      "⬜⬜⬜⬜⬜⬜⬜⬜⬛⬛\n",
      "⬜⬜⬜⬜⬜⬜⬛⬜⬜⬜\n",
      "⬜⬜⬜⬜⬜⬜⬜⬜⬜⬜\n",
      "⬛⬛⬜⬜⬜⬜⬜⬜⬜⬜\n",
      "⬛⬜⬜⬜⬜⬜⬜⬛⬛⬜\n",
      "⬛⬛⬜⬜⬛⬜⬜⬜⬛⬜\n"
     ]
    }
   ],
   "source": [
    "grid = [[None for _ in range(10)] for _ in range(10)]\n",
    "\n",
    "for i in range(10):\n",
    "    for j in range(10):\n",
    "        grid[i][j] = int(random() < density)\n",
    "\n",
    "display_grid()\n"
   ]
  },
  {
   "cell_type": "code",
   "execution_count": 71,
   "metadata": {},
   "outputs": [
    {
     "name": "stdout",
     "output_type": "stream",
     "text": [
      "⬜⬜⬜⬜⬜⬛⬜⬜⬜⬜\n",
      "⬛⬜⬜⬜⬜⬜⬜⬜⬛⬜\n",
      "⬜⬜⬛⬜⬜⬜⬜⬜⬜⬜\n",
      "⬜⬜⬜⬜⬜⬜⬜⬜⬛⬜\n",
      "⬜⬜⬜⬜⬜⬜⬜⬜⬜⬜\n",
      "⬜⬛⬛⬜⬜⬛⬜⬜⬛⬜\n",
      "⬜⬜⬜⬜⬛⬛⬛⬜⬛⬜\n",
      "⬜⬜⬜⬜⬜⬛⬜⬜⬛⬜\n",
      "⬜⬜⬛⬜⬜⬜⬜⬛⬜⬜\n",
      "⬛⬜⬜⬜⬜⬜⬜⬜⬜⬜\n"
     ]
    }
   ],
   "source": [
    "# Least time complexity\n",
    "grid = [[int(random() < density) for _ in range(10)] for _ in range(10)] \n",
    "\n",
    "display_grid()\n"
   ]
  },
  {
   "cell_type": "code",
   "execution_count": 79,
   "metadata": {},
   "outputs": [],
   "source": [
    "def evolve():\n",
    "    global grid\n",
    "    new_grid = [[0 for _ in range(10)] for _ in range(10)]\n",
    "\n",
    "    nb_of_neighbour = 0\n",
    "\n",
    "    for i in range(10):\n",
    "        for j in range(10):\n",
    "            # NW\n",
    "            if i and j and grid[i-1][j-1]: \n",
    "                nb_of_neighbour += 1\n",
    "            # N\n",
    "            if i and grid[i-1][j]: \n",
    "                nb_of_neighbour += 1\n",
    "            # NE\n",
    "            if i and j < 9 and grid[i-1][j+1]: \n",
    "                nb_of_neighbour += 1\n",
    "            # SW\n",
    "            if i < 8 and j and grid[i+1][j-1]: \n",
    "                nb_of_neighbour += 1\n",
    "            # S\n",
    "            if i < 8 and grid[i+1][j]: \n",
    "                nb_of_neighbour += 1\n",
    "            # SE\n",
    "            if i < 8 and j < 9 and grid[i+1][j+1]: \n",
    "                nb_of_neighbour += 1\n",
    "            # W\n",
    "            if j and grid[i][j-1]: \n",
    "                nb_of_neighbour += 1\n",
    "            # E\n",
    "            if i < 9 and grid[i-1][j-1]: \n",
    "                nb_of_neighbour += 1\n",
    "            if nb_of_neighbour == 3 or nb_of_neighbour == 2 and grid[i][j]:\n",
    "                new_grid[i][j] = 1\n",
    "\n",
    "    grid = new_grid \n"
   ]
  },
  {
   "cell_type": "code",
   "execution_count": 80,
   "metadata": {},
   "outputs": [
    {
     "name": "stdout",
     "output_type": "stream",
     "text": [
      "⬜⬜⬜⬛⬛⬛⬛⬛⬛⬛\n",
      "⬛⬛⬛⬜⬜⬜⬜⬜⬜⬜\n",
      "⬜⬜⬜⬜⬜⬜⬜⬜⬜⬜\n",
      "⬜⬜⬜⬜⬜⬜⬜⬜⬜⬜\n",
      "⬜⬜⬜⬜⬜⬜⬜⬜⬜⬜\n",
      "⬜⬜⬜⬜⬜⬜⬜⬜⬜⬜\n",
      "⬜⬜⬜⬜⬜⬜⬜⬜⬜⬜\n",
      "⬜⬜⬜⬜⬜⬜⬜⬜⬜⬜\n",
      "⬜⬜⬜⬜⬜⬜⬜⬜⬜⬜\n",
      "⬜⬜⬜⬜⬜⬜⬜⬜⬜⬜\n"
     ]
    }
   ],
   "source": [
    "evolve()\n",
    "display_grid()"
   ]
  },
  {
   "cell_type": "code",
   "execution_count": 83,
   "metadata": {},
   "outputs": [],
   "source": [
    "def evolve():\n",
    "    global grid\n",
    "    new_grid = [[0]* 10 for _ in range(10)]\n",
    "\n",
    "    for i in range(10):\n",
    "        for j in range(10):\n",
    "            nb_of_neighbour = 0 \n",
    "            # NW\n",
    "            if i and j and grid[i-1][j-1]: \n",
    "                nb_of_neighbour += 1\n",
    "            # N\n",
    "            if i and grid[i-1][j]: \n",
    "                nb_of_neighbour += 1\n",
    "            # NE\n",
    "            if i and j < 9 and grid[i-1][j+1]: \n",
    "                nb_of_neighbour += 1\n",
    "            # SW\n",
    "            if i < 8 and j and grid[i+1][j-1]: \n",
    "                nb_of_neighbour += 1\n",
    "            # S\n",
    "            if i < 8 and grid[i+1][j]: \n",
    "                nb_of_neighbour += 1\n",
    "            # SE\n",
    "            if i < 8 and j < 9 and grid[i+1][j+1]: \n",
    "                nb_of_neighbour += 1\n",
    "            # W\n",
    "            if j and grid[i][j-1]: \n",
    "                nb_of_neighbour += 1\n",
    "            # E\n",
    "            if i < 9 and grid[i-1][j-1]: \n",
    "                nb_of_neighbour += 1\n",
    "            if nb_of_neighbour == 3 or nb_of_neighbour == 2 and grid[i][j]:\n",
    "                new_grid[i][j] = 1\n",
    "\n",
    "    grid = new_grid \n"
   ]
  },
  {
   "cell_type": "code",
   "execution_count": 124,
   "metadata": {},
   "outputs": [
    {
     "name": "stdout",
     "output_type": "stream",
     "text": [
      "⬜⬜⬜⬜⬜⬜⬛⬜⬜⬜\n",
      "⬛⬜⬜⬛⬛⬜⬜⬛⬜⬜\n",
      "⬜⬜⬜⬜⬜⬜⬜⬜⬜⬜\n",
      "⬜⬛⬜⬜⬜⬜⬜⬜⬜⬛\n",
      "⬜⬛⬜⬛⬜⬜⬜⬜⬜⬛\n",
      "⬜⬜⬜⬜⬜⬜⬜⬜⬜⬜\n",
      "⬛⬜⬜⬜⬜⬛⬜⬜⬛⬜\n",
      "⬜⬛⬛⬜⬜⬜⬜⬜⬜⬜\n",
      "⬜⬜⬜⬜⬛⬜⬜⬜⬛⬜\n",
      "⬜⬜⬜⬜⬜⬛⬜⬜⬛⬜\n",
      "\n",
      "⬜⬜⬜⬜⬜⬜⬛⬜⬜⬜\n",
      "⬜⬜⬜⬜⬜⬜⬜⬛⬜⬜\n",
      "⬜⬛⬜⬜⬛⬜⬜⬜⬛⬜\n",
      "⬜⬜⬛⬜⬜⬜⬜⬜⬜⬜\n",
      "⬜⬜⬛⬜⬜⬜⬜⬜⬜⬜\n",
      "⬛⬜⬛⬜⬛⬜⬜⬜⬜⬜\n",
      "⬜⬛⬜⬜⬜⬜⬜⬜⬜⬜\n",
      "⬜⬛⬜⬜⬜⬜⬜⬜⬜⬛\n",
      "⬜⬜⬛⬜⬜⬜⬜⬜⬜⬜\n",
      "⬜⬜⬜⬜⬜⬜⬜⬜⬜⬜\n"
     ]
    }
   ],
   "source": [
    "grid = [[int(random() < density) for _ in range(10)] for _ in range(10)] \n",
    "\n",
    "display_grid()\n",
    "print()\n",
    "evolve()\n",
    "display_grid()\n",
    "\n"
   ]
  },
  {
   "cell_type": "code",
   "execution_count": 125,
   "metadata": {},
   "outputs": [
    {
     "name": "stdout",
     "output_type": "stream",
     "text": [
      "⬜⬜⬜⬜⬜⬜⬜⬜⬜⬜\n",
      "⬜⬜⬜⬜⬜⬜⬜⬛⬜⬜\n",
      "⬜⬜⬜⬜⬜⬜⬜⬜⬛⬜\n",
      "⬜⬜⬛⬛⬜⬜⬜⬜⬜⬜\n",
      "⬜⬛⬛⬜⬜⬜⬜⬜⬜⬜\n",
      "⬜⬛⬛⬛⬜⬜⬜⬜⬜⬜\n",
      "⬜⬜⬛⬛⬜⬜⬜⬜⬜⬜\n",
      "⬜⬛⬜⬜⬜⬜⬜⬜⬜⬜\n",
      "⬜⬜⬛⬜⬜⬜⬜⬜⬜⬜\n",
      "⬜⬜⬜⬜⬜⬜⬜⬜⬜⬜\n"
     ]
    }
   ],
   "source": [
    "evolve()\n",
    "display_grid()\n"
   ]
  },
  {
   "cell_type": "code",
   "execution_count": 136,
   "metadata": {},
   "outputs": [
    {
     "data": {
      "text/plain": [
       "[[0, 0, 0, 0, 0, 0, 0, 0, 0, 0, 0, 0],\n",
       " [0, 0, 0, 0, 0, 0, 0, 0, 0, 0, 0, 0],\n",
       " [0, 0, 0, 0, 0, 0, 0, 0, 0, 0, 0, 0],\n",
       " [0, 0, 0, 0, 0, 0, 0, 0, 0, 0, 0, 0],\n",
       " [0, 0, 0, 0, 0, 0, 0, 0, 0, 0, 0, 0],\n",
       " [0, 0, 0, 0, 0, 0, 0, 0, 0, 0, 0, 0],\n",
       " [0, 0, 0, 0, 0, 0, 0, 0, 0, 0, 0, 0],\n",
       " [0, 0, 0, 0, 0, 0, 0, 0, 0, 0, 0, 0],\n",
       " [0, 0, 0, 0, 0, 0, 0, 0, 0, 0, 0, 0],\n",
       " [0, 0, 0, 0, 0, 0, 0, 0, 0, 0, 0, 0],\n",
       " [0, 0, 0, 0, 0, 0, 0, 0, 0, 0, 0, 0],\n",
       " [0, 0, 0, 0, 0, 0, 0, 0, 0, 0, 0, 0]]"
      ]
     },
     "execution_count": 136,
     "metadata": {},
     "output_type": "execute_result"
    }
   ],
   "source": [
    "dim = 10 \n",
    "frammed_grid = [[0] * (dim + 2) for _ in range(dim + 2)]\n",
    "frammed_grid"
   ]
  },
  {
   "cell_type": "code",
   "execution_count": 137,
   "metadata": {},
   "outputs": [
    {
     "data": {
      "text/plain": [
       "[[0, 0, 0, 0, 0, 0, 0, 0, 0, 0, 0, 0],\n",
       " [0, 0, 0, 0, 0, 0, 0, 1, 0, 1, 0, 0],\n",
       " [0, 0, 0, 0, 1, 1, 0, 0, 1, 1, 0, 0],\n",
       " [0, 0, 0, 0, 0, 1, 1, 0, 0, 0, 0, 0],\n",
       " [0, 0, 1, 0, 1, 1, 1, 1, 0, 0, 0, 0],\n",
       " [0, 0, 0, 0, 0, 0, 0, 0, 0, 0, 0, 0],\n",
       " [0, 0, 1, 0, 0, 0, 0, 1, 0, 0, 1, 0],\n",
       " [0, 0, 0, 0, 0, 0, 0, 1, 0, 0, 0, 0],\n",
       " [0, 0, 0, 0, 0, 0, 1, 0, 0, 0, 0, 0],\n",
       " [0, 0, 0, 0, 0, 0, 1, 0, 0, 1, 1, 0],\n",
       " [0, 0, 0, 0, 0, 0, 1, 0, 0, 1, 0, 0],\n",
       " [0, 0, 0, 0, 0, 0, 0, 0, 0, 0, 0, 0]]"
      ]
     },
     "execution_count": 137,
     "metadata": {},
     "output_type": "execute_result"
    }
   ],
   "source": [
    "for i in range(1, dim + 1):\n",
    "    for j in range(1, dim + 1):\n",
    "        frammed_grid[i][j] = int(random() < density)\n",
    "frammed_grid\n"
   ]
  },
  {
   "cell_type": "code",
   "execution_count": 146,
   "metadata": {},
   "outputs": [],
   "source": [
    "def display_within_frammed_grid():\n",
    "    for row in frammed_grid[1:-1]:\n",
    "        print(''.join(squares[e] for e in row))"
   ]
  },
  {
   "cell_type": "code",
   "execution_count": 147,
   "metadata": {},
   "outputs": [
    {
     "name": "stdout",
     "output_type": "stream",
     "text": [
      "⬜⬜⬜⬜⬜⬜⬜⬛⬜⬛⬜⬜\n",
      "⬜⬜⬜⬜⬛⬛⬜⬜⬛⬛⬜⬜\n",
      "⬜⬜⬜⬜⬜⬛⬛⬜⬜⬜⬜⬜\n",
      "⬜⬜⬛⬜⬛⬛⬛⬛⬜⬜⬜⬜\n",
      "⬜⬜⬜⬜⬜⬜⬜⬜⬜⬜⬜⬜\n",
      "⬜⬜⬛⬜⬜⬜⬜⬛⬜⬜⬛⬜\n",
      "⬜⬜⬜⬜⬜⬜⬜⬛⬜⬜⬜⬜\n",
      "⬜⬜⬜⬜⬜⬜⬛⬜⬜⬜⬜⬜\n",
      "⬜⬜⬜⬜⬜⬜⬛⬜⬜⬛⬛⬜\n",
      "⬜⬜⬜⬜⬜⬜⬛⬜⬜⬛⬜⬜\n"
     ]
    }
   ],
   "source": [
    "display_within_frammed_grid()   "
   ]
  },
  {
   "cell_type": "code",
   "execution_count": 206,
   "metadata": {},
   "outputs": [],
   "source": [
    "framed_grid = [[0] * (dim + 2) for _ in range(dim + 2)]\n",
    "for i in range(1, dim + 1):\n",
    "    for j in range(1, dim + 1):\n",
    "        framed_grid[i][j] = int(random() < density)\n",
    "\n",
    "def display_population_within_frame(grid):\n",
    "    squares = {0: '\\u2b1c', 1: '\\u2b1b'}\n",
    "    for i in range(1, dim + 1):\n",
    "        print(''.join(f'{squares[grid[i][j]]}'\n",
    "                              for j in range(1, dim + 1)\n",
    "                     )\n",
    "             )\n",
    "\n",
    "def next_generation_within_frame():\n",
    "    global framed_grid\n",
    "    new_framed_grid = [[0] * (dim + 2) for _ in range(dim + 2)]\n",
    "    for i in range(1, dim + 1):\n",
    "        for j in range(1, dim + 1):\n",
    "            nb_of_neighbours = sum((framed_grid[i - 1][j - 1],\n",
    "                                    framed_grid[i - 1][j],\n",
    "                                    framed_grid[i - 1][j + 1],\n",
    "                                    framed_grid[i][j - 1],\n",
    "                                    framed_grid[i][j + 1],\n",
    "                                    framed_grid[i + 1][j - 1],\n",
    "                                    framed_grid[i + 1][j],\n",
    "                                    framed_grid[i + 1][j + 1]\n",
    "                                   )\n",
    "                                  )\n",
    "            new_framed_grid[i][j] = int(framed_grid[i][j]\n",
    "                                        and nb_of_neighbours == 2\n",
    "                                        or nb_of_neighbours == 3\n",
    "                                       )\n",
    "    framed_grid = new_framed_grid\n"
   ]
  },
  {
   "cell_type": "code",
   "execution_count": 184,
   "metadata": {},
   "outputs": [],
   "source": [
    "import numpy as np  "
   ]
  },
  {
   "cell_type": "code",
   "execution_count": 185,
   "metadata": {},
   "outputs": [
    {
     "data": {
      "text/plain": [
       "array([1, 4, 6, 7])"
      ]
     },
     "execution_count": 185,
     "metadata": {},
     "output_type": "execute_result"
    }
   ],
   "source": [
    "np.array([1,4,6,7])"
   ]
  },
  {
   "cell_type": "code",
   "execution_count": 186,
   "metadata": {},
   "outputs": [
    {
     "data": {
      "text/plain": [
       "np.int64(4)"
      ]
     },
     "execution_count": 186,
     "metadata": {},
     "output_type": "execute_result"
    }
   ],
   "source": [
    "a = np.array([1,4,6,7])\n",
    "a[1]"
   ]
  },
  {
   "cell_type": "code",
   "execution_count": 199,
   "metadata": {},
   "outputs": [
    {
     "data": {
      "text/plain": [
       "array([1, 2, 3, 4, 5, 6, 7, 8])"
      ]
     },
     "execution_count": 199,
     "metadata": {},
     "output_type": "execute_result"
    }
   ],
   "source": [
    "a = np.arange(1, 9)\n",
    "a"
   ]
  },
  {
   "cell_type": "code",
   "execution_count": 201,
   "metadata": {},
   "outputs": [
    {
     "data": {
      "text/plain": [
       "array([[1, 2, 3, 4],\n",
       "       [5, 6, 7, 8]])"
      ]
     },
     "execution_count": 201,
     "metadata": {},
     "output_type": "execute_result"
    },
    {
     "data": {
      "text/plain": [
       "array([[1, 5],\n",
       "       [2, 6],\n",
       "       [3, 7],\n",
       "       [4, 8]])"
      ]
     },
     "execution_count": 201,
     "metadata": {},
     "output_type": "execute_result"
    },
    {
     "data": {
      "text/plain": [
       "array([[1, 2],\n",
       "       [3, 4],\n",
       "       [5, 6],\n",
       "       [7, 8]])"
      ]
     },
     "execution_count": 201,
     "metadata": {},
     "output_type": "execute_result"
    }
   ],
   "source": [
    "a.reshape(2,4)\n",
    "a.reshape(2,4).T\n",
    "a.reshape(4,2)\n",
    "\n"
   ]
  },
  {
   "cell_type": "code",
   "execution_count": 203,
   "metadata": {},
   "outputs": [
    {
     "data": {
      "text/plain": [
       "array([ 1,  2,  3,  4,  5,  6, 70,  8])"
      ]
     },
     "execution_count": 203,
     "metadata": {},
     "output_type": "execute_result"
    }
   ],
   "source": [
    "a.reshape(2,4)[1,2] = 70\n",
    "a"
   ]
  },
  {
   "cell_type": "code",
   "execution_count": 205,
   "metadata": {},
   "outputs": [
    {
     "data": {
      "text/plain": [
       "array([  1,   2,   3,   4,   5, 100,  70,   8])"
      ]
     },
     "execution_count": 205,
     "metadata": {},
     "output_type": "execute_result"
    }
   ],
   "source": [
    "a.reshape(2,2,2)[1,0,1] = 100\n",
    "a"
   ]
  },
  {
   "cell_type": "code",
   "execution_count": 208,
   "metadata": {},
   "outputs": [
    {
     "data": {
      "text/plain": [
       "array([[ 0,  1,  2,  3,  4,  5,  6,  7],\n",
       "       [ 8,  9, 10, 11, 12, 13, 14, 15]])"
      ]
     },
     "execution_count": 208,
     "metadata": {},
     "output_type": "execute_result"
    },
    {
     "data": {
      "text/plain": [
       "np.int64(10)"
      ]
     },
     "execution_count": 208,
     "metadata": {},
     "output_type": "execute_result"
    },
    {
     "data": {
      "text/plain": [
       "array([ 8,  9, 10, 11, 12, 13, 14, 15])"
      ]
     },
     "execution_count": 208,
     "metadata": {},
     "output_type": "execute_result"
    },
    {
     "data": {
      "text/plain": [
       "array([[ 8,  9, 10, 11, 12, 13, 14, 15]])"
      ]
     },
     "execution_count": 208,
     "metadata": {},
     "output_type": "execute_result"
    },
    {
     "data": {
      "text/plain": [
       "array([ 3, 11])"
      ]
     },
     "execution_count": 208,
     "metadata": {},
     "output_type": "execute_result"
    },
    {
     "data": {
      "text/plain": [
       "array([[ 3],\n",
       "       [11]])"
      ]
     },
     "execution_count": 208,
     "metadata": {},
     "output_type": "execute_result"
    }
   ],
   "source": [
    "L = np.array(range(16)).reshape(2, 8)\n",
    "\n",
    "L\n",
    "L[1, 2]\n",
    "L[1, :]\n",
    "L[1 : 2, :]\n",
    "L[:, 3]\n",
    "L[:, 3 : 4]"
   ]
  },
  {
   "cell_type": "code",
   "execution_count": null,
   "metadata": {},
   "outputs": [],
   "source": [
    " L = np.array(range(16)).reshape(2, 2, 4)\n",
    "\n",
    "L\n",
    "L[1, 0, 2]\n",
    "L[1, 1, 1 :]\n",
    "L[1, :, 1 : 3]\n",
    "L[0 : 1, 0 : 1, 1 : 3]\n"
   ]
  },
  {
   "cell_type": "code",
   "execution_count": null,
   "metadata": {},
   "outputs": [],
   "source": []
  },
  {
   "cell_type": "code",
   "execution_count": null,
   "metadata": {},
   "outputs": [],
   "source": []
  }
 ],
 "metadata": {
  "kernelspec": {
   "display_name": "pop",
   "language": "python",
   "name": "python3"
  },
  "language_info": {
   "codemirror_mode": {
    "name": "ipython",
    "version": 3
   },
   "file_extension": ".py",
   "mimetype": "text/x-python",
   "name": "python",
   "nbconvert_exporter": "python",
   "pygments_lexer": "ipython3",
   "version": "3.10.14"
  }
 },
 "nbformat": 4,
 "nbformat_minor": 2
}
