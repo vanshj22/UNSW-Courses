{
 "cells": [
  {
   "cell_type": "code",
   "execution_count": 1,
   "metadata": {},
   "outputs": [],
   "source": [
    "from IPython.core.interactiveshell import InteractiveShell\n",
    "InteractiveShell.ast_node_interactivity = 'all'"
   ]
  },
  {
   "cell_type": "code",
   "execution_count": 92,
   "metadata": {},
   "outputs": [
    {
     "data": {
      "text/plain": [
       "''"
      ]
     },
     "execution_count": 92,
     "metadata": {},
     "output_type": "execute_result"
    }
   ],
   "source": [
    "nb_of_games = input(\"How many time do u want to play?\")\n",
    "nb_of_games"
   ]
  },
  {
   "cell_type": "code",
   "execution_count": 93,
   "metadata": {},
   "outputs": [],
   "source": [
    "# Infinite Loop\n",
    "\n",
    "while True:\n",
    "    try:\n",
    "        nb_of_games = input(\"How many time do u want to play?\")\n",
    "        nb_of_games\n",
    "    except ValueError:\n",
    "        print('Input Incorrect, try again')\n"
   ]
  },
  {
   "cell_type": "code",
   "execution_count": 2,
   "metadata": {},
   "outputs": [
    {
     "name": "stdout",
     "output_type": "stream",
     "text": [
      "Input Incorrect, try again\n",
      "Input Incorrect, try again\n",
      "Input Incorrect, try again\n",
      "Input Incorrect, try again\n"
     ]
    },
    {
     "data": {
      "text/plain": [
       "7"
      ]
     },
     "execution_count": 2,
     "metadata": {},
     "output_type": "execute_result"
    }
   ],
   "source": [
    "\n",
    "while True:\n",
    "    try:\n",
    "        nb_of_games = int(input(\"How many time do u want to play?\"))\n",
    "        if nb_of_games<= 0:\n",
    "            raise ValueError\n",
    "        break   \n",
    "    except ValueError:\n",
    "        print('Input Incorrect, try again')\n",
    "nb_of_games"
   ]
  },
  {
   "cell_type": "code",
   "execution_count": 9,
   "metadata": {},
   "outputs": [
    {
     "data": {
      "text/plain": [
       "False"
      ]
     },
     "execution_count": 9,
     "metadata": {},
     "output_type": "execute_result"
    }
   ],
   "source": [
    "\"hello\".istitle()"
   ]
  },
  {
   "cell_type": "code",
   "execution_count": 10,
   "metadata": {},
   "outputs": [
    {
     "data": {
      "text/plain": [
       "False"
      ]
     },
     "execution_count": 10,
     "metadata": {},
     "output_type": "execute_result"
    }
   ],
   "source": [
    "\"HELLO \".istitle()"
   ]
  },
  {
   "cell_type": "code",
   "execution_count": 11,
   "metadata": {},
   "outputs": [
    {
     "data": {
      "text/plain": [
       "True"
      ]
     },
     "execution_count": 11,
     "metadata": {},
     "output_type": "execute_result"
    }
   ],
   "source": [
    "\"Hello\".istitle()"
   ]
  },
  {
   "cell_type": "code",
   "execution_count": 29,
   "metadata": {},
   "outputs": [
    {
     "data": {
      "text/plain": [
       "True"
      ]
     },
     "execution_count": 29,
     "metadata": {},
     "output_type": "execute_result"
    }
   ],
   "source": [
    "switch = input(\"Would you like to switch?\")\n",
    "if switch.istitle():\n",
    "    switch = switch.lower()\n",
    "if switch == 'yes' or switch == 'y': # or   if switch in {\"yes\" or \"y\"}:\n",
    "        switch = True\n",
    "switch"
   ]
  },
  {
   "cell_type": "code",
   "execution_count": 27,
   "metadata": {},
   "outputs": [
    {
     "data": {
      "text/plain": [
       "True"
      ]
     },
     "execution_count": 27,
     "metadata": {},
     "output_type": "execute_result"
    }
   ],
   "source": [
    "bool(\"anything is true\")"
   ]
  },
  {
   "cell_type": "code",
   "execution_count": 21,
   "metadata": {},
   "outputs": [
    {
     "data": {
      "text/plain": [
       "False"
      ]
     },
     "execution_count": 21,
     "metadata": {},
     "output_type": "execute_result"
    }
   ],
   "source": [
    "bool('')"
   ]
  },
  {
   "cell_type": "code",
   "execution_count": 33,
   "metadata": {},
   "outputs": [
    {
     "data": {
      "text/plain": [
       "dict"
      ]
     },
     "execution_count": 33,
     "metadata": {},
     "output_type": "execute_result"
    }
   ],
   "source": [
    "type({})"
   ]
  },
  {
   "cell_type": "code",
   "execution_count": 34,
   "metadata": {},
   "outputs": [
    {
     "data": {
      "text/plain": [
       "set()"
      ]
     },
     "execution_count": 34,
     "metadata": {},
     "output_type": "execute_result"
    }
   ],
   "source": [
    "set()"
   ]
  },
  {
   "cell_type": "code",
   "execution_count": 36,
   "metadata": {},
   "outputs": [
    {
     "data": {
      "text/plain": [
       "set"
      ]
     },
     "execution_count": 36,
     "metadata": {},
     "output_type": "execute_result"
    }
   ],
   "source": [
    "type(set())"
   ]
  },
  {
   "cell_type": "code",
   "execution_count": 40,
   "metadata": {},
   "outputs": [
    {
     "data": {
      "text/plain": [
       "dict"
      ]
     },
     "execution_count": 40,
     "metadata": {},
     "output_type": "execute_result"
    }
   ],
   "source": [
    "type(dict(set()))"
   ]
  },
  {
   "cell_type": "code",
   "execution_count": 43,
   "metadata": {},
   "outputs": [
    {
     "data": {
      "text/plain": [
       "True"
      ]
     },
     "execution_count": 43,
     "metadata": {},
     "output_type": "execute_result"
    }
   ],
   "source": [
    "9 in {'1',4,6,9}"
   ]
  },
  {
   "cell_type": "code",
   "execution_count": 44,
   "metadata": {},
   "outputs": [
    {
     "data": {
      "text/plain": [
       "2"
      ]
     },
     "execution_count": 44,
     "metadata": {},
     "output_type": "execute_result"
    }
   ],
   "source": [
    "def f():\n",
    "    return 2\n",
    "f()"
   ]
  },
  {
   "cell_type": "code",
   "execution_count": 47,
   "metadata": {},
   "outputs": [
    {
     "data": {
      "text/plain": [
       "(2, 3)"
      ]
     },
     "execution_count": 47,
     "metadata": {},
     "output_type": "execute_result"
    }
   ],
   "source": [
    "def f():\n",
    "    return 2,3\n",
    "f()"
   ]
  },
  {
   "cell_type": "code",
   "execution_count": 50,
   "metadata": {},
   "outputs": [],
   "source": [
    "def set_simulation():\n",
    "    while True:\n",
    "        try:\n",
    "            nb_of_games = int(input(\"How many times do u want to play?\"))\n",
    "            if nb_of_games<= 0:\n",
    "                raise ValueError\n",
    "            break   \n",
    "        except ValueError:\n",
    "            print('Input incorrect, try again')\n",
    "    while True:\n",
    "        switch = input(\"Would you like to switch?\")\n",
    "        if switch.istitle():\n",
    "            switch = switch.lower()\n",
    "        if switch in {\"yes\" or \"y\"}:\n",
    "            switch = True\n",
    "            break\n",
    "        if switch in {\"no\" or \"n\"}:\n",
    "            switch = True\n",
    "            break\n",
    "        print(\"Input incorrect, try again \")\n",
    "    return nb_of_games, switch"
   ]
  },
  {
   "cell_type": "code",
   "execution_count": 51,
   "metadata": {},
   "outputs": [
    {
     "name": "stdout",
     "output_type": "stream",
     "text": [
      "Input incorrect, try again\n",
      "Input incorrect, try again\n",
      "Input incorrect, try again \n"
     ]
    },
    {
     "data": {
      "text/plain": [
       "(49, True)"
      ]
     },
     "execution_count": 51,
     "metadata": {},
     "output_type": "execute_result"
    }
   ],
   "source": [
    "set_simulation()"
   ]
  },
  {
   "cell_type": "code",
   "execution_count": 3,
   "metadata": {},
   "outputs": [],
   "source": [
    "from random import randrange, choice"
   ]
  },
  {
   "cell_type": "code",
   "execution_count": 57,
   "metadata": {},
   "outputs": [
    {
     "name": "stdout",
     "output_type": "stream",
     "text": [
      "0\n",
      "17\n",
      "14\n",
      "15\n",
      "29\n",
      "10\n",
      "10\n",
      "2\n",
      "7\n",
      "1\n"
     ]
    }
   ],
   "source": [
    "for i in range(10):\n",
    "    print(randrange(30))"
   ]
  },
  {
   "cell_type": "code",
   "execution_count": 78,
   "metadata": {},
   "outputs": [
    {
     "data": {
      "text/plain": [
       "1"
      ]
     },
     "execution_count": 78,
     "metadata": {},
     "output_type": "execute_result"
    }
   ],
   "source": [
    "doors = {1:'a',2:'b',3:'c'} # to chose key at random\n",
    "winning_door = choice(list(doors.keys()))\n",
    "winning_door"
   ]
  },
  {
   "cell_type": "code",
   "execution_count": 69,
   "metadata": {},
   "outputs": [
    {
     "data": {
      "text/plain": [
       "3"
      ]
     },
     "execution_count": 69,
     "metadata": {},
     "output_type": "execute_result"
    }
   ],
   "source": [
    "doors = [1,2,3]\n",
    "winning_door = choice(doors)\n",
    "winning_door"
   ]
  },
  {
   "cell_type": "code",
   "execution_count": 82,
   "metadata": {},
   "outputs": [
    {
     "data": {
      "text/plain": [
       "['a', 'b']"
      ]
     },
     "execution_count": 82,
     "metadata": {},
     "output_type": "execute_result"
    }
   ],
   "source": [
    "doors = ['a','b','c']\n",
    "winning_door = choice(doors)\n",
    "winning_door\n",
    "first_choice = doors.pop(randrange(3))\n",
    "first_choice\n",
    "doors"
   ]
  },
  {
   "cell_type": "code",
   "execution_count": 4,
   "metadata": {},
   "outputs": [
    {
     "data": {
      "text/plain": [
       "'c'"
      ]
     },
     "execution_count": 4,
     "metadata": {},
     "output_type": "execute_result"
    },
    {
     "data": {
      "text/plain": [
       "'a'"
      ]
     },
     "execution_count": 4,
     "metadata": {},
     "output_type": "execute_result"
    },
    {
     "data": {
      "text/plain": [
       "'c'"
      ]
     },
     "execution_count": 4,
     "metadata": {},
     "output_type": "execute_result"
    },
    {
     "data": {
      "text/plain": [
       "'a'"
      ]
     },
     "execution_count": 4,
     "metadata": {},
     "output_type": "execute_result"
    },
    {
     "data": {
      "text/plain": [
       "'b'"
      ]
     },
     "execution_count": 4,
     "metadata": {},
     "output_type": "execute_result"
    },
    {
     "data": {
      "text/plain": [
       "'c'"
      ]
     },
     "execution_count": 4,
     "metadata": {},
     "output_type": "execute_result"
    }
   ],
   "source": [
    "doors = ['a','b','c']\n",
    "winning_door = choice(doors)\n",
    "winning_door\n",
    "first_choice = doors.pop(randrange(3))\n",
    "first_choice\n",
    "\n",
    "if first_choice == winning_door:\n",
    "    opened_by_host = doors.pop(randrange(2))\n",
    "    if switch:\n",
    "        second_choice = doors[0]\n",
    "    else:\n",
    "        second_choice=first_choice\n",
    "\n",
    "else: \n",
    "    doors.remove(winning_door)\n",
    "    opened_by_host = doors[0]\n",
    "    second_choice=winning_door\n",
    "\n",
    "winning_door\n",
    "first_choice\n",
    "opened_by_host\n",
    "second_choice\n"
   ]
  },
  {
   "cell_type": "code",
   "execution_count": 87,
   "metadata": {},
   "outputs": [
    {
     "data": {
      "text/plain": [
       "'a'"
      ]
     },
     "execution_count": 87,
     "metadata": {},
     "output_type": "execute_result"
    }
   ],
   "source": [
    "nb_of_wins = 0\n",
    "for _ in range(nb_of_games):\n",
    "    doors = ['a','b','c']\n",
    "    winning_door = choice(doors)\n",
    "    print(\"Unknon to contestant, winninfg door is\", winning_door)\n",
    "    first_choice = doors.pop(randrange(3))\n",
    "    first_choice\n",
    "\n",
    "    if first_choice == winning_door:\n",
    "        opened_by_host = doors.pop(randrange(2))\n",
    "        if switch:\n",
    "            second_choice = doors[0]\n",
    "        else:\n",
    "            second_choice=first_choice\n",
    "\n",
    "    else: \n",
    "        doors.remove(winning_door)\n",
    "        opened_by_host = doors[0]\n",
    "        second_choice=winning_door\n",
    "\n",
    "winning_door\n",
    "first_choice\n",
    "opened_by_host\n",
    "second_choice\n"
   ]
  },
  {
   "cell_type": "code",
   "execution_count": null,
   "metadata": {},
   "outputs": [],
   "source": []
  }
 ],
 "metadata": {
  "kernelspec": {
   "display_name": "base",
   "language": "python",
   "name": "python3"
  },
  "language_info": {
   "codemirror_mode": {
    "name": "ipython",
    "version": 3
   },
   "file_extension": ".py",
   "mimetype": "text/x-python",
   "name": "python",
   "nbconvert_exporter": "python",
   "pygments_lexer": "ipython3",
   "version": "3.12.4"
  }
 },
 "nbformat": 4,
 "nbformat_minor": 2
}
