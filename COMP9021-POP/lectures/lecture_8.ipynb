{
 "cells": [
  {
   "cell_type": "code",
   "execution_count": 1,
   "metadata": {},
   "outputs": [],
   "source": [
    "from IPython.core.interactiveshell import InteractiveShell\n",
    "InteractiveShell.ast_node_interactivity = 'all'"
   ]
  },
  {
   "cell_type": "code",
   "execution_count": 2,
   "metadata": {},
   "outputs": [],
   "source": [
    "from math import sqrt"
   ]
  },
  {
   "cell_type": "code",
   "execution_count": null,
   "metadata": {},
   "outputs": [],
   "source": [
    "\n",
    "for i in range(1, round(sqrt(997))+1):\n",
    "    i_square = i * i\n",
    "    for j in range(i + 1, round(sqrt(9998))+1):\n",
    "        j_square = j*j\n",
    "        for k in range(j + 1, round(sqrt(9876532))+1):\n",
    "            k_square = k * k\n",
    "\n",
    "        "
   ]
  },
  {
   "cell_type": "code",
   "execution_count": 9,
   "metadata": {},
   "outputs": [
    {
     "data": {
      "text/plain": [
       "8242480"
      ]
     },
     "execution_count": 9,
     "metadata": {},
     "output_type": "execute_result"
    }
   ],
   "source": [
    "sum(1 for i in range(1, round(sqrt(997))+1)\n",
    "    for j in range(i + 1, round(sqrt(9998))+1)\n",
    "\n",
    "    for k in range(j + 1, round(sqrt(9876532))+1)\n",
    ")\n",
    "\n",
    "        "
   ]
  },
  {
   "cell_type": "code",
   "execution_count": 14,
   "metadata": {},
   "outputs": [
    {
     "data": {
      "text/plain": [
       "8"
      ]
     },
     "execution_count": 14,
     "metadata": {},
     "output_type": "execute_result"
    }
   ],
   "source": [
    "round(7.5001)"
   ]
  },
  {
   "cell_type": "code",
   "execution_count": 13,
   "metadata": {},
   "outputs": [
    {
     "data": {
      "text/plain": [
       "7"
      ]
     },
     "execution_count": 13,
     "metadata": {},
     "output_type": "execute_result"
    }
   ],
   "source": [
    "int(7.501)"
   ]
  },
  {
   "cell_type": "code",
   "execution_count": 8,
   "metadata": {},
   "outputs": [
    {
     "data": {
      "text/plain": [
       "7936372"
      ]
     },
     "execution_count": 8,
     "metadata": {},
     "output_type": "execute_result"
    }
   ],
   "source": [
    "sum(1 for i in range(1, int(sqrt(997)) + 1)\n",
    "        for j in range(i + 1, int(sqrt(9998)) + 1)\n",
    "            for k in range(j + 1, int(sqrt(9876532)) + 1)\n",
    "   )"
   ]
  },
  {
   "cell_type": "code",
   "execution_count": 49,
   "metadata": {},
   "outputs": [],
   "source": [
    "def ok(n, seen_before):\n",
    "    n_as_str = str(n)\n",
    "    seen_now = seen_before | set(n_as_str)\n",
    "    if len(seen_now) == len(seen_before) + len(n_as_str):\n",
    "        return seen_now\n"
   ]
  },
  {
   "cell_type": "code",
   "execution_count": 50,
   "metadata": {},
   "outputs": [
    {
     "name": "stdout",
     "output_type": "stream",
     "text": [
      "1 4 3297856\n",
      "1 4 3857296\n",
      "1 4 5827396\n",
      "1 4 6385729\n",
      "1 4 7203856\n",
      "1 4 7980625\n",
      "1 4 8567329\n",
      "1 4 8673025\n",
      "1 4 9572836\n",
      "1 9 2540836\n",
      "1 9 2650384\n",
      "1 9 4730625\n",
      "1 9 6734025\n",
      "1 9 7203856\n",
      "1 9 8673025\n",
      "1 25 708964\n",
      "1 25 760384\n",
      "1 36 257049\n",
      "1 36 497025\n",
      "1 36 725904\n",
      "1 49 872356\n",
      "1 64 537289\n",
      "1 64 893025\n",
      "1 256 47089\n",
      "1 256 73984\n",
      "1 289 63504\n",
      "1 576 23409\n",
      "1 576 39204\n",
      "1 625 47089\n",
      "1 625 73984\n",
      "1 729 63504\n",
      "1 784 30625\n",
      "1 784 93025\n",
      "1 2304 7569\n",
      "1 2809 4356\n",
      "1 2809 5476\n",
      "1 3025 8649\n",
      "1 3249 7056\n",
      "1 5329 6084\n",
      "4 9 1380625\n",
      "4 9 1836025\n",
      "4 9 2085136\n",
      "4 9 3207681\n",
      "4 9 7203856\n",
      "4 9 8673025\n",
      "4 16 537289\n",
      "4 16 893025\n",
      "4 25 139876\n",
      "4 25 318096\n",
      "4 25 391876\n",
      "4 25 613089\n",
      "4 36 198025\n",
      "4 36 259081\n",
      "4 36 819025\n",
      "4 81 207936\n",
      "4 81 390625\n",
      "4 81 603729\n",
      "4 81 635209\n",
      "4 169 38025\n",
      "4 169 87025\n",
      "4 196 38025\n",
      "4 196 87025\n",
      "4 289 15376\n",
      "4 289 50176\n",
      "4 289 51076\n",
      "4 361 87025\n",
      "4 529 67081\n",
      "4 961 38025\n",
      "4 961 87025\n",
      "9 16 483025\n",
      "9 25 103684\n",
      "9 25 638401\n",
      "9 25 760384\n",
      "9 25 813604\n",
      "9 25 863041\n",
      "9 36 107584\n",
      "9 36 714025\n",
      "9 64 731025\n",
      "9 81 357604\n",
      "9 324 15876\n",
      "9 324 50176\n",
      "9 324 51076\n",
      "9 324 67081\n",
      "9 361 87025\n",
      "9 576 23104\n",
      "9 576 32041\n",
      "9 784 30625\n",
      "9 841 20736\n",
      "9 841 30276\n",
      "9 841 30625\n",
      "9 1764 3025\n",
      "9 3025 4761\n",
      "9 3481 7056\n",
      "9 3721 6084\n",
      "16 25 47089\n",
      "16 25 73984\n",
      "16 49 38025\n",
      "16 49 87025\n",
      "16 784 3025\n",
      "16 784 5329\n",
      "16 784 9025\n",
      "25 36 47089\n",
      "25 36 89401\n",
      "25 49 67081\n",
      "25 81 30976\n",
      "25 784 1369\n",
      "25 784 1936\n",
      "25 841 7396\n",
      "36 49 87025\n",
      "36 81 74529\n",
      "36 81 79524\n",
      "36 289 5041\n",
      "36 729 5041\n",
      "36 729 5184\n",
      "36 784 9025\n",
      "36 841 9025\n",
      "49 81 20736\n",
      "49 81 30276\n",
      "49 81 30625\n",
      "64 81 93025\n",
      "81 324 7056\n",
      "81 324 7569\n",
      "81 576 2304\n",
      "81 576 3249\n",
      "81 729 4356\n",
      "361 529 784\n"
     ]
    }
   ],
   "source": [
    "\n",
    "for i in range(1, round(sqrt(997))+1):\n",
    "    i_square = i * i\n",
    "    digits_in_i_square = ok(i_square, {0} )\n",
    "    if not digits_in_i_square:\n",
    "        continue\n",
    "    for j in range(i + 1, round(sqrt(9998))+1):\n",
    "        j_square = j*j\n",
    "        digits_in_i_and_j_square = ok(j_square, digits_in_i_square)\n",
    "        if not digits_in_i_and_j_square:\n",
    "            continue\n",
    "        for k in range(j + 1, round(sqrt(9876532))+1):\n",
    "            k_square = k * k\n",
    "            digits_in_i_and_j_and_k_square = ok(k_square, digits_in_i_and_j_square)\n",
    "            if not digits_in_i_and_j_and_k_square:\n",
    "                continue\n",
    "            if len(digits_in_i_and_j_and_k_square)==10:\n",
    "                print(i_square, j_square,k_square)\n",
    "\n",
    "        "
   ]
  },
  {
   "cell_type": "code",
   "execution_count": 51,
   "metadata": {},
   "outputs": [
    {
     "name": "stdout",
     "output_type": "stream",
     "text": [
      "{'2', '5', '4', '0', '7', '8'}\n"
     ]
    }
   ],
   "source": [
    "print(ok(784, {'0', '2', '5'}))"
   ]
  },
  {
   "cell_type": "code",
   "execution_count": 36,
   "metadata": {},
   "outputs": [
    {
     "data": {
      "text/plain": [
       "{1, 2, 3, 4, 5, 6}"
      ]
     },
     "execution_count": 36,
     "metadata": {},
     "output_type": "execute_result"
    },
    {
     "data": {
      "text/plain": [
       "{1, 2, 3, 4}"
      ]
     },
     "execution_count": 36,
     "metadata": {},
     "output_type": "execute_result"
    }
   ],
   "source": [
    "S ={1,2,3,4}\n",
    "S.union([5,6])\n",
    "S"
   ]
  },
  {
   "cell_type": "code",
   "execution_count": 25,
   "metadata": {},
   "outputs": [
    {
     "data": {
      "text/plain": [
       "{1, 2, 3, 4, 5, 6}"
      ]
     },
     "execution_count": 25,
     "metadata": {},
     "output_type": "execute_result"
    }
   ],
   "source": [
    "S ={1,2,3,4}\n",
    "S.update((5,6))\n",
    "S"
   ]
  },
  {
   "cell_type": "code",
   "execution_count": 24,
   "metadata": {},
   "outputs": [
    {
     "data": {
      "text/plain": [
       "{1, 2, 3, 4, 5, 6}"
      ]
     },
     "execution_count": 24,
     "metadata": {},
     "output_type": "execute_result"
    },
    {
     "data": {
      "text/plain": [
       "{1, 2, 3, 4}"
      ]
     },
     "execution_count": 24,
     "metadata": {},
     "output_type": "execute_result"
    }
   ],
   "source": [
    "S ={1,2,3,4}\n",
    "S | {5,6}\n",
    "S"
   ]
  },
  {
   "cell_type": "code",
   "execution_count": 26,
   "metadata": {},
   "outputs": [
    {
     "data": {
      "text/plain": [
       "{'4'}"
      ]
     },
     "execution_count": 26,
     "metadata": {},
     "output_type": "execute_result"
    },
    {
     "data": {
      "text/plain": [
       "{1, '4', 4, 6}"
      ]
     },
     "execution_count": 26,
     "metadata": {},
     "output_type": "execute_result"
    },
    {
     "data": {
      "text/plain": [
       "False"
      ]
     },
     "execution_count": 26,
     "metadata": {},
     "output_type": "execute_result"
    }
   ],
   "source": [
    "seen_before = {1,4,6}\n",
    "i_square = 16\n",
    "j_square = 44\n",
    "set(str(j_square))\n",
    "seen_before | set (str(j_square))\n",
    "len(seen_before | set(str(j_square))) == len(seen_before) + len(str(j_square)) "
   ]
  },
  {
   "cell_type": "code",
   "execution_count": 55,
   "metadata": {},
   "outputs": [],
   "source": [
    "\n",
    "for i in range(1, round(sqrt(997))+1):\n",
    "    i_square = i * i\n",
    "    digits_in_i_square = ok1(i_square, {0} )\n",
    "    if not digits_in_i_square:\n",
    "        continue\n",
    "    for j in range(i + 1, round(sqrt(9998))+1):\n",
    "        j_square = j*j\n",
    "        digits_in_i_and_j_square = ok1(j_square, set(digits_in_i_square))\n",
    "        if not digits_in_i_and_j_square:\n",
    "            continue\n",
    "        for k in range(j + 1, round(sqrt(9876532))+1):\n",
    "            k_square = k * k\n",
    "            digits_in_i_and_j_and_k_square = ok1(k_square, set(digits_in_i_and_j_square))\n",
    "            if not digits_in_i_and_j_and_k_square:\n",
    "                continue\n",
    "            if len(digits_in_i_and_j_and_k_square)==10:\n",
    "                print(i_square, j_square,k_square)\n",
    "\n",
    "        "
   ]
  },
  {
   "cell_type": "code",
   "execution_count": 53,
   "metadata": {},
   "outputs": [],
   "source": [
    "def ok1(n, seen_before):\n",
    "    while n:\n",
    "        n, d = divmod(n, 10)\n",
    "        if d not in seen_before: \n",
    "            seen_before.add(d)\n",
    "        else:\n",
    "            return\n",
    "    return seen_before"
   ]
  },
  {
   "cell_type": "code",
   "execution_count": 57,
   "metadata": {},
   "outputs": [
    {
     "data": {
      "text/plain": [
       "'10000000'"
      ]
     },
     "execution_count": 57,
     "metadata": {},
     "output_type": "execute_result"
    },
    {
     "data": {
      "text/plain": [
       "'10000000'"
      ]
     },
     "execution_count": 57,
     "metadata": {},
     "output_type": "execute_result"
    }
   ],
   "source": [
    "f'{1 *2 ** 7:b}'\n",
    "f'{1 << 7:b}'"
   ]
  },
  {
   "cell_type": "code",
   "execution_count": 64,
   "metadata": {},
   "outputs": [
    {
     "data": {
      "text/plain": [
       "'1100'"
      ]
     },
     "execution_count": 64,
     "metadata": {},
     "output_type": "execute_result"
    }
   ],
   "source": [
    "f'{int(\"110001101\", 2) >> 5:b}'\n"
   ]
  },
  {
   "cell_type": "code",
   "execution_count": 69,
   "metadata": {},
   "outputs": [
    {
     "data": {
      "text/plain": [
       "'1100'"
      ]
     },
     "execution_count": 69,
     "metadata": {},
     "output_type": "execute_result"
    }
   ],
   "source": [
    "f'{int(\"110001101\", 2) >> 5:b}'\n"
   ]
  },
  {
   "cell_type": "code",
   "execution_count": 70,
   "metadata": {},
   "outputs": [
    {
     "data": {
      "text/plain": [
       "29"
      ]
     },
     "execution_count": 70,
     "metadata": {},
     "output_type": "execute_result"
    },
    {
     "data": {
      "text/plain": [
       "('1101', '10101', '11101')"
      ]
     },
     "execution_count": 70,
     "metadata": {},
     "output_type": "execute_result"
    }
   ],
   "source": [
    "13 | 21\n",
    "f'{13:b}', f'{21:b}', f'{29:b}', # logical OR operation"
   ]
  },
  {
   "cell_type": "code",
   "execution_count": 71,
   "metadata": {},
   "outputs": [
    {
     "data": {
      "text/plain": [
       "5"
      ]
     },
     "execution_count": 71,
     "metadata": {},
     "output_type": "execute_result"
    },
    {
     "data": {
      "text/plain": [
       "('1101', '10101', '101')"
      ]
     },
     "execution_count": 71,
     "metadata": {},
     "output_type": "execute_result"
    }
   ],
   "source": [
    "13 & 21\n",
    "f'{13:b}', f'{21:b}', f'{5:b}', # logical OR operation"
   ]
  },
  {
   "cell_type": "code",
   "execution_count": 74,
   "metadata": {},
   "outputs": [],
   "source": [
    "\n",
    "for i in range(1, round(sqrt(997))+1):\n",
    "    i_square = i * i\n",
    "    digits_in_i_square = ok2(i_square, 1 )\n",
    "    if not digits_in_i_square:\n",
    "        continue\n",
    "    for j in range(i + 1, round(sqrt(9998))+1):\n",
    "        j_square = j*j\n",
    "        digits_in_i_and_j_square = ok2(j_square, (digits_in_i_square))\n",
    "        if not digits_in_i_and_j_square:\n",
    "            continue\n",
    "        for k in range(j + 1, round(sqrt(9876532))+1):\n",
    "            k_square = k * k\n",
    "            digits_in_i_and_j_and_k_square = ok2(k_square, (digits_in_i_and_j_square))\n",
    "            if not digits_in_i_and_j_and_k_square:\n",
    "                continue\n",
    "            if len(digits_in_i_and_j_and_k_square)==10:\n",
    "                print(i_square, j_square,k_square)\n",
    "\n",
    "        "
   ]
  },
  {
   "cell_type": "code",
   "execution_count": 72,
   "metadata": {},
   "outputs": [],
   "source": [
    "def ok2(n, seen_before):\n",
    "    while n:\n",
    "        n,d = divmod(n, 10)\n",
    "        seen_now = seen_before , 1<<d \n",
    "        if seen_now == seen_before:\n",
    "            return\n",
    "        seen_before = seen_now\n",
    "    return seen_now"
   ]
  },
  {
   "cell_type": "code",
   "execution_count": null,
   "metadata": {},
   "outputs": [],
   "source": []
  }
 ],
 "metadata": {
  "kernelspec": {
   "display_name": "pop",
   "language": "python",
   "name": "python3"
  },
  "language_info": {
   "codemirror_mode": {
    "name": "ipython",
    "version": 3
   },
   "file_extension": ".py",
   "mimetype": "text/x-python",
   "name": "python",
   "nbconvert_exporter": "python",
   "pygments_lexer": "ipython3",
   "version": "3.10.14"
  }
 },
 "nbformat": 4,
 "nbformat_minor": 2
}
